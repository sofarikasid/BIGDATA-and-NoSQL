{
 "cells": [
  {
   "cell_type": "code",
   "execution_count": 1,
   "id": "40df32dc",
   "metadata": {},
   "outputs": [
    {
     "data": {
      "text/plain": [
       "<function nt.getcwd()>"
      ]
     },
     "execution_count": 1,
     "metadata": {},
     "output_type": "execute_result"
    }
   ],
   "source": [
    "import pandas as pd \n",
    "import tweepy\n",
    "from pymongo import MongoClient, ASCENDING , TEXT\n",
    "import json \n",
    "import twitter\n",
    "import spacy \n",
    "import json\n",
    "import os \n",
    "os.getcwd"
   ]
  },
  {
   "cell_type": "markdown",
   "id": "da60732c",
   "metadata": {},
   "source": [
    "# Client AUTH"
   ]
  },
  {
   "cell_type": "code",
   "execution_count": 2,
   "id": "eac719da",
   "metadata": {},
   "outputs": [],
   "source": [
    "def client_auth():\n",
    "    \n",
    "    import tweepy\n",
    "    \n",
    "    ###TWITTER AUTO_INFO \n",
    "    API_Key = \"*********************\"\n",
    "    API_Key_Secret = \"*********************\"\n",
    "    Access_Token = \"*********************\"\n",
    "    Access_Token_Secret=\"*********************\"\n",
    "    Bearer_Token=\"*********************\"\n",
    "    \n",
    "    \n",
    "    tweepy.Client(bearer_token=Bearer_Token , consumer_key=API_Key, \n",
    "                       consumer_secret=API_Key_Secret, access_token=Access_Token, \n",
    "                       access_token_secret=Access_Token_Secret )  \n",
    "    return client"
   ]
  },
  {
   "cell_type": "markdown",
   "id": "95faf8be",
   "metadata": {},
   "source": [
    "## This stores  streaming data to database"
   ]
  },
  {
   "cell_type": "code",
   "execution_count": 7,
   "id": "dbc64f08",
   "metadata": {},
   "outputs": [],
   "source": [
    "class stream_tweet_(tweepy.StreamingClient):\n",
    "    \"This class connets the API data to Database\"\n",
    "    \n",
    "    def on_connect(self):\n",
    "    # Function called to connect to the Twitter Streaming API\n",
    "        print(\"You are now connected to the Twitter streaming API.\")\n",
    "    \n",
    "    def on_error(self, status_code):\n",
    "    # Function displays the error or status code\n",
    "        print('An Error has occured: ' + repr(status_code))\n",
    "        return False\n",
    "        \n",
    "    def on_data(self, data):\n",
    "        \n",
    "        ##CONNECT TO MONGO CLUSTER \n",
    "        mogodb_conn = MongoClient(\"mongodb://localhost:27017\")\n",
    "        db= mogodb_conn.tweet_file\n",
    "        collection = db.tweet_stream_\n",
    "        \n",
    "        #Decode the JSON data from Twitter\n",
    "        datajson = json.loads(data)\n",
    "        \n",
    "        #print(datajson)\n",
    "        collection.insert_one(datajson)  \n",
    "        \n",
    "    #def on_response(self,includes):\n",
    "     #   print(includes)\n",
    "        "
   ]
  },
  {
   "cell_type": "code",
   "execution_count": 8,
   "id": "5fa73428",
   "metadata": {},
   "outputs": [],
   "source": [
    "def launch_api_db():\n",
    "    \"This function ativates the class for streaaming to database\"\n",
    "    Bearer_Token=\"*********************\"\n",
    "    stream_.sample(expansions =[\"author_id\",\"referenced_tweets.id\",\"geo.place_id\"])\n",
    "    \n",
    "    return 1"
   ]
  },
  {
   "cell_type": "code",
   "execution_count": null,
   "id": "82973f28",
   "metadata": {},
   "outputs": [],
   "source": [
    "##########Initaite stream without  filter \n",
    "launch_api_db()"
   ]
  },
  {
   "cell_type": "code",
   "execution_count": 5,
   "id": "27863ca3",
   "metadata": {},
   "outputs": [],
   "source": [
    "def ingest_with_filter(query):\n",
    "    \"This function ingests data to database with filter\"\n",
    "    \n",
    "    Bearer_Token=\"AAAAAAAAAAAAAAAAAAAAAGALeAEAAAAAk5wcEiaVxsqn7utsiSHJuabGWBM%3D2tfmJqhPhSMZ9mkqoJjgVv4wa6ycaz6OwKo5cOzS2M9S9oN3dW\"\n",
    "    show_stream= stream_tweet_(Bearer_Token)\n",
    "    show_stream.running\n",
    "    rule = tweepy.StreamRule(value= query) ###Here is where seach query is inserteg \n",
    "    show_stream.add_rules(rule)\n",
    "    show_stream.filter()\n",
    "    #show_stream.filter(expansions =[\"author_id\",\"geo.place_id\"]) ##In here we can add what other fields intrested in \n",
    "    \n",
    "    return 1"
   ]
  },
  {
   "cell_type": "code",
   "execution_count": null,
   "id": "fcb6991e",
   "metadata": {},
   "outputs": [],
   "source": [
    "##########Initaite stream with filter \n",
    "query= \"Bitcion\"\n",
    "ingest_with_filter(query)"
   ]
  },
  {
   "cell_type": "code",
   "execution_count": null,
   "id": "7aeccec2",
   "metadata": {},
   "outputs": [],
   "source": []
  }
 ],
 "metadata": {
  "kernelspec": {
   "display_name": "Python 3",
   "language": "python",
   "name": "python3"
  },
  "language_info": {
   "codemirror_mode": {
    "name": "ipython",
    "version": 3
   },
   "file_extension": ".py",
   "mimetype": "text/x-python",
   "name": "python",
   "nbconvert_exporter": "python",
   "pygments_lexer": "ipython3",
   "version": "3.8.8"
  }
 },
 "nbformat": 4,
 "nbformat_minor": 5
}
