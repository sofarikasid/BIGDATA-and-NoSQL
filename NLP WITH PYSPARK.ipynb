{
 "cells": [
  {
   "cell_type": "code",
   "execution_count": null,
   "id": "2cecda6d",
   "metadata": {},
   "outputs": [],
   "source": []
  },
  {
   "cell_type": "code",
   "execution_count": 1,
   "id": "3ca808c0",
   "metadata": {},
   "outputs": [],
   "source": [
    "import pyspark\n",
    "import findspark\n",
    "from pyspark import SparkContext\n",
    "from pyspark.sql import SparkSession\n",
    "from pyspark.sql import SQLContext\n",
    "\n",
    "import findspark\n",
    "findspark.init()"
   ]
  },
  {
   "cell_type": "code",
   "execution_count": 2,
   "id": "201fc76f",
   "metadata": {},
   "outputs": [],
   "source": [
    "##First create a spark session \n",
    "conf = pyspark.SparkConf().set('spark.jars.packages','org.mongodb.spark:mongo-spark-connector_2.12:3.0.1').setMaster('local').setAppName('my app').setAll([(\"spark.driver.memory\",\"40g\"), (\"spark.executor.memory\",\"50g\")])\n",
    "sc= SparkContext(conf=conf)\n",
    "spark = SparkSession.builder.config(conf=conf).getOrCreate()\n"
   ]
  },
  {
   "cell_type": "code",
   "execution_count": 3,
   "id": "8b80179e",
   "metadata": {},
   "outputs": [],
   "source": [
    "from pyspark.sql.types import *\n",
    "from pyspark.ml import Pipeline\n",
    "\n",
    "import sparknlp\n",
    "from sparknlp import DocumentAssembler, Finisher\n",
    "nlp_spark = sparknlp.start()"
   ]
  },
  {
   "cell_type": "code",
   "execution_count": 4,
   "id": "d4b0dd84",
   "metadata": {},
   "outputs": [
    {
     "data": {
      "text/html": [
       "\n",
       "            <div>\n",
       "                <p><b>SparkSession - in-memory</b></p>\n",
       "                \n",
       "        <div>\n",
       "            <p><b>SparkContext</b></p>\n",
       "\n",
       "            <p><a href=\"http://192.168.0.5:4040\">Spark UI</a></p>\n",
       "\n",
       "            <dl>\n",
       "              <dt>Version</dt>\n",
       "                <dd><code>v3.3.0</code></dd>\n",
       "              <dt>Master</dt>\n",
       "                <dd><code>local</code></dd>\n",
       "              <dt>AppName</dt>\n",
       "                <dd><code>my app</code></dd>\n",
       "            </dl>\n",
       "        </div>\n",
       "        \n",
       "            </div>\n",
       "        "
      ],
      "text/plain": [
       "<pyspark.sql.session.SparkSession at 0x1cf1b8dcca0>"
      ]
     },
     "execution_count": 4,
     "metadata": {},
     "output_type": "execute_result"
    }
   ],
   "source": [
    "spark"
   ]
  },
  {
   "cell_type": "code",
   "execution_count": 5,
   "id": "f3b7cd65",
   "metadata": {
    "scrolled": true
   },
   "outputs": [
    {
     "name": "stdout",
     "output_type": "stream",
     "text": [
      "+--------------------+--------------------+------+--------------------+\n",
      "|                 _id|                data|errors|            includes|\n",
      "+--------------------+--------------------+------+--------------------+\n",
      "|{62e97965167d0fcc...|{155909486, {null...|  null|{null, null, [{15...|\n",
      "|{62e97965167d0fcc...|{1235404915515613...|  null|{null, [{12245393...|\n",
      "|{62e97965167d0fcc...|{15127829, {null}...|  null|{null, [{89501706...|\n",
      "|{62e97966167d0fcc...|{235714500, {null...|  null|{null, [{15128293...|\n",
      "|{62e97966167d0fcc...|{2630269581, {nul...|  null|{null, null, [{26...|\n",
      "+--------------------+--------------------+------+--------------------+\n",
      "only showing top 5 rows\n",
      "\n",
      "root\n",
      " |-- _id: struct (nullable = true)\n",
      " |    |-- oid: string (nullable = true)\n",
      " |-- data: struct (nullable = true)\n",
      " |    |-- author_id: string (nullable = true)\n",
      " |    |-- geo: struct (nullable = true)\n",
      " |    |    |-- place_id: string (nullable = true)\n",
      " |    |-- id: string (nullable = true)\n",
      " |    |-- referenced_tweets: array (nullable = true)\n",
      " |    |    |-- element: struct (containsNull = true)\n",
      " |    |    |    |-- type: string (nullable = true)\n",
      " |    |    |    |-- id: string (nullable = true)\n",
      " |    |-- text: string (nullable = true)\n",
      " |-- errors: array (nullable = true)\n",
      " |    |-- element: struct (containsNull = true)\n",
      " |    |    |-- resource_id: string (nullable = true)\n",
      " |    |    |-- parameter: string (nullable = true)\n",
      " |    |    |-- resource_type: string (nullable = true)\n",
      " |    |    |-- section: string (nullable = true)\n",
      " |    |    |-- title: string (nullable = true)\n",
      " |    |    |-- value: string (nullable = true)\n",
      " |    |    |-- detail: string (nullable = true)\n",
      " |    |    |-- type: string (nullable = true)\n",
      " |-- includes: struct (nullable = true)\n",
      " |    |-- places: array (nullable = true)\n",
      " |    |    |-- element: struct (containsNull = true)\n",
      " |    |    |    |-- full_name: string (nullable = true)\n",
      " |    |    |    |-- id: string (nullable = true)\n",
      " |    |-- tweets: array (nullable = true)\n",
      " |    |    |-- element: struct (containsNull = true)\n",
      " |    |    |    |-- author_id: string (nullable = true)\n",
      " |    |    |    |-- geo: struct (nullable = true)\n",
      " |    |    |    |    |-- place_id: string (nullable = true)\n",
      " |    |    |    |-- id: string (nullable = true)\n",
      " |    |    |    |-- referenced_tweets: array (nullable = true)\n",
      " |    |    |    |    |-- element: struct (containsNull = true)\n",
      " |    |    |    |    |    |-- type: string (nullable = true)\n",
      " |    |    |    |    |    |-- id: string (nullable = true)\n",
      " |    |    |    |-- text: string (nullable = true)\n",
      " |    |-- users: array (nullable = true)\n",
      " |    |    |-- element: struct (containsNull = true)\n",
      " |    |    |    |-- id: string (nullable = true)\n",
      " |    |    |    |-- name: string (nullable = true)\n",
      " |    |    |    |-- username: string (nullable = true)\n",
      "\n"
     ]
    }
   ],
   "source": [
    "df_tweet = spark.read.format(\"mongo\").option(\"uri\",\"mongodb://127.0.0.1/tweet_file.tweet_stream_\").load()\n",
    "df_tweet.show(5)\n",
    "df_tweet.printSchema()"
   ]
  },
  {
   "cell_type": "code",
   "execution_count": 6,
   "id": "464a3745",
   "metadata": {},
   "outputs": [
    {
     "name": "stdout",
     "output_type": "stream",
     "text": [
      "+-------------------+--------------------+\n",
      "|          author_id|                text|\n",
      "+-------------------+--------------------+\n",
      "|          155909486|https://t.co/HTjo...|\n",
      "|1235404915515613184|RT @ImranKhanPTI:...|\n",
      "|           15127829|RT @ShibleyTelham...|\n",
      "|          235714500|@MiguelM34149403 ...|\n",
      "|         2630269581|Alguém pra beber ...|\n",
      "+-------------------+--------------------+\n",
      "only showing top 5 rows\n",
      "\n"
     ]
    }
   ],
   "source": [
    "## query tweets and autor_id\n",
    "b=df_tweet.select('data.author_id', 'data.text')\n",
    "b.show(5)"
   ]
  },
  {
   "cell_type": "markdown",
   "id": "d7aeffc2",
   "metadata": {},
   "source": [
    "## Processing words"
   ]
  },
  {
   "cell_type": "code",
   "execution_count": 7,
   "id": "ed508d53",
   "metadata": {},
   "outputs": [],
   "source": [
    "from pyspark.ml.feature import Tokenizer, RegexTokenizer\n",
    "from pyspark.sql.functions import col, udf\n",
    "from pyspark.sql.types import IntegerType\n",
    "from sparknlp.annotator import Stemmer, Lemmatizer, LemmatizerModel\n",
    "\n"
   ]
  },
  {
   "cell_type": "code",
   "execution_count": 8,
   "id": "ec39b54d",
   "metadata": {
    "scrolled": true
   },
   "outputs": [],
   "source": [
    "tokenizer = Tokenizer(inputCol=\"text\", outputCol=\"words_token\")\n",
    "tokenized = tokenizer.transform(b)\n"
   ]
  },
  {
   "cell_type": "code",
   "execution_count": 9,
   "id": "c70f8380",
   "metadata": {},
   "outputs": [
    {
     "name": "stdout",
     "output_type": "stream",
     "text": [
      "+-------------------+--------------------+--------------------+\n",
      "|          author_id|                text|         words_token|\n",
      "+-------------------+--------------------+--------------------+\n",
      "|          155909486|https://t.co/HTjo...|[https://t.co/htj...|\n",
      "|1235404915515613184|RT @ImranKhanPTI:...|[rt, @imrankhanpt...|\n",
      "|           15127829|RT @ShibleyTelham...|[rt, @shibleytelh...|\n",
      "|          235714500|@MiguelM34149403 ...|[@miguelm34149403...|\n",
      "|         2630269581|Alguém pra beber ...|[alguém, pra, beb...|\n",
      "+-------------------+--------------------+--------------------+\n",
      "only showing top 5 rows\n",
      "\n"
     ]
    }
   ],
   "source": [
    "tokenized.show(5)"
   ]
  },
  {
   "cell_type": "code",
   "execution_count": 10,
   "id": "130c9659",
   "metadata": {},
   "outputs": [
    {
     "name": "stdout",
     "output_type": "stream",
     "text": [
      "+-------------------+--------------------+\n",
      "|          author_id|         words_token|\n",
      "+-------------------+--------------------+\n",
      "|          155909486|[https://t.co/htj...|\n",
      "|1235404915515613184|[rt, @imrankhanpt...|\n",
      "|           15127829|[rt, @shibleytelh...|\n",
      "|          235714500|[@miguelm34149403...|\n",
      "|         2630269581|[alguém, pra, beb...|\n",
      "+-------------------+--------------------+\n",
      "only showing top 5 rows\n",
      "\n"
     ]
    }
   ],
   "source": [
    "word_token_= tokenized.select(\"author_id\",'words_token')\n",
    "word_token_.show(5)"
   ]
  },
  {
   "cell_type": "code",
   "execution_count": 11,
   "id": "0a436cdc",
   "metadata": {
    "scrolled": true
   },
   "outputs": [],
   "source": [
    "from pyspark.ml.feature import StopWordsRemover\n",
    "\n",
    "remover = StopWordsRemover(inputCol=\"words_token\", outputCol=\"filtered\")\n",
    "removed_stop=remover.transform(word_token_)"
   ]
  },
  {
   "cell_type": "code",
   "execution_count": 12,
   "id": "1968c031",
   "metadata": {},
   "outputs": [
    {
     "name": "stdout",
     "output_type": "stream",
     "text": [
      "+-------------------+--------------------+--------------------+\n",
      "|          author_id|         words_token|            filtered|\n",
      "+-------------------+--------------------+--------------------+\n",
      "|          155909486|[https://t.co/htj...|[https://t.co/htj...|\n",
      "|1235404915515613184|[rt, @imrankhanpt...|[rt, @imrankhanpt...|\n",
      "|           15127829|[rt, @shibleytelh...|[rt, @shibleytelh...|\n",
      "|          235714500|[@miguelm34149403...|[@miguelm34149403...|\n",
      "|         2630269581|[alguém, pra, beb...|[alguém, pra, beb...|\n",
      "+-------------------+--------------------+--------------------+\n",
      "only showing top 5 rows\n",
      "\n"
     ]
    }
   ],
   "source": [
    "removed_stop.show(5)"
   ]
  },
  {
   "cell_type": "code",
   "execution_count": 13,
   "id": "f5209cb7",
   "metadata": {
    "scrolled": true
   },
   "outputs": [],
   "source": [
    "from pyspark.ml.feature import CountVectorizer\n",
    "\n",
    "# fit a CountVectorizerModel from the corpus.\n",
    "c_v = CountVectorizer(inputCol=\"filtered\", outputCol=\"features\")\n",
    "c_v_model = c_v.fit(removed_stop)\n",
    "result = c_v_model.transform(removed_stop)"
   ]
  },
  {
   "cell_type": "code",
   "execution_count": 14,
   "id": "bd5427c5",
   "metadata": {},
   "outputs": [
    {
     "name": "stdout",
     "output_type": "stream",
     "text": [
      "+-------------------+--------------------+--------------------+--------------------+\n",
      "|          author_id|         words_token|            filtered|            features|\n",
      "+-------------------+--------------------+--------------------+--------------------+\n",
      "|          155909486|[https://t.co/htj...|[https://t.co/htj...|(16287,[16148],[1...|\n",
      "|1235404915515613184|[rt, @imrankhanpt...|[rt, @imrankhanpt...|(16287,[0,12,312,...|\n",
      "|           15127829|[rt, @shibleytelh...|[rt, @shibleytelh...|(16287,[0,207,431...|\n",
      "|          235714500|[@miguelm34149403...|[@miguelm34149403...|(16287,[313,369,5...|\n",
      "|         2630269581|[alguém, pra, beb...|[alguém, pra, beb...|(16287,[35,80,133...|\n",
      "+-------------------+--------------------+--------------------+--------------------+\n",
      "only showing top 5 rows\n",
      "\n"
     ]
    }
   ],
   "source": [
    "result.show(5)"
   ]
  },
  {
   "cell_type": "code",
   "execution_count": 15,
   "id": "f5e77794",
   "metadata": {},
   "outputs": [],
   "source": [
    "from pyspark.ml.feature import NGram\n",
    "ngram = NGram(n=2, inputCol=\"filtered\", outputCol=\"ngrams\")\n",
    "\n",
    "ngramDataFrame = ngram.transform(result)"
   ]
  },
  {
   "cell_type": "code",
   "execution_count": 17,
   "id": "d7858fd2",
   "metadata": {},
   "outputs": [
    {
     "name": "stdout",
     "output_type": "stream",
     "text": [
      "+-------------------+--------------------+--------------------+--------------------+--------------------+\n",
      "|          author_id|         words_token|            filtered|            features|              ngrams|\n",
      "+-------------------+--------------------+--------------------+--------------------+--------------------+\n",
      "|          155909486|[https://t.co/htj...|[https://t.co/htj...|(16287,[16148],[1...|                  []|\n",
      "|1235404915515613184|[rt, @imrankhanpt...|[rt, @imrankhanpt...|(16287,[0,12,312,...|[rt @imrankhanpti...|\n",
      "|           15127829|[rt, @shibleytelh...|[rt, @shibleytelh...|(16287,[0,207,431...|[rt @shibleytelha...|\n",
      "|          235714500|[@miguelm34149403...|[@miguelm34149403...|(16287,[313,369,5...|[@miguelm34149403...|\n",
      "|         2630269581|[alguém, pra, beb...|[alguém, pra, beb...|(16287,[35,80,133...|[alguém pra, pra ...|\n",
      "+-------------------+--------------------+--------------------+--------------------+--------------------+\n",
      "only showing top 5 rows\n",
      "\n"
     ]
    }
   ],
   "source": [
    "ngramDataFrame.show(5)"
   ]
  },
  {
   "cell_type": "code",
   "execution_count": null,
   "id": "9ffb670c",
   "metadata": {},
   "outputs": [],
   "source": []
  },
  {
   "cell_type": "markdown",
   "id": "fb1cde0a",
   "metadata": {},
   "source": [
    "## TFIDF"
   ]
  },
  {
   "cell_type": "code",
   "execution_count": 18,
   "id": "a887e947",
   "metadata": {},
   "outputs": [],
   "source": [
    "from pyspark.ml.feature import HashingTF, IDF, Tokenizer"
   ]
  },
  {
   "cell_type": "code",
   "execution_count": 118,
   "id": "6bd6b20b",
   "metadata": {},
   "outputs": [],
   "source": [
    "hashingTF = HashingTF(inputCol=\"filtered\", outputCol=\"hashed\")\n",
    "featurizedData = hashingTF.transform(removed_stop)\n",
    "\n",
    "idf = IDF(inputCol=\"hashed\", outputCol=\"TFIDF\")\n",
    "idfModel = idf.fit(featurizedData)\n",
    "rescaledData = idfModel.transform(featurizedData)\n"
   ]
  },
  {
   "cell_type": "code",
   "execution_count": 119,
   "id": "0592fa9d",
   "metadata": {
    "scrolled": false
   },
   "outputs": [
    {
     "name": "stdout",
     "output_type": "stream",
     "text": [
      "+-------------------+--------------------+--------------------+--------------------+--------------------+\n",
      "|          author_id|         words_token|            filtered|              hashed|               TFIDF|\n",
      "+-------------------+--------------------+--------------------+--------------------+--------------------+\n",
      "|          155909486|[https://t.co/htj...|[https://t.co/htj...|(262144,[81354],[...|(262144,[81354],[...|\n",
      "|1235404915515613184|[rt, @imrankhanpt...|[rt, @imrankhanpt...|(262144,[32869,49...|(262144,[32869,49...|\n",
      "|           15127829|[rt, @shibleytelh...|[rt, @shibleytelh...|(262144,[8798,101...|(262144,[8798,101...|\n",
      "|          235714500|[@miguelm34149403...|[@miguelm34149403...|(262144,[6805,152...|(262144,[6805,152...|\n",
      "|         2630269581|[alguém, pra, beb...|[alguém, pra, beb...|(262144,[4412,352...|(262144,[4412,352...|\n",
      "+-------------------+--------------------+--------------------+--------------------+--------------------+\n",
      "only showing top 5 rows\n",
      "\n"
     ]
    }
   ],
   "source": [
    "rescaledData.show(5)"
   ]
  },
  {
   "cell_type": "code",
   "execution_count": 121,
   "id": "3d94f35c",
   "metadata": {},
   "outputs": [
    {
     "name": "stdout",
     "output_type": "stream",
     "text": [
      "+-------------------+--------------------+--------------------+\n",
      "|          author_id|            filtered|               TFIDF|\n",
      "+-------------------+--------------------+--------------------+\n",
      "|          155909486|[https://t.co/htj...|(262144,[81354],[...|\n",
      "|1235404915515613184|[rt, @imrankhanpt...|(262144,[32869,49...|\n",
      "|           15127829|[rt, @shibleytelh...|(262144,[8798,101...|\n",
      "|          235714500|[@miguelm34149403...|(262144,[6805,152...|\n",
      "|         2630269581|[alguém, pra, beb...|(262144,[4412,352...|\n",
      "+-------------------+--------------------+--------------------+\n",
      "only showing top 5 rows\n",
      "\n"
     ]
    }
   ],
   "source": [
    "word_token_1= rescaledData.select(\"author_id\",'filtered','TFIDF')\n",
    "word_token_1.show(5)"
   ]
  },
  {
   "cell_type": "code",
   "execution_count": 122,
   "id": "3d72d776",
   "metadata": {},
   "outputs": [],
   "source": [
    "word_token_1 = word_token_1.pandas_api()"
   ]
  },
  {
   "cell_type": "code",
   "execution_count": 140,
   "id": "23a14800",
   "metadata": {},
   "outputs": [
    {
     "data": {
      "text/plain": [
       "['alguém', 'pra', 'beber', 'hoje,', 'eu', 'imploro']"
      ]
     },
     "execution_count": 140,
     "metadata": {},
     "output_type": "execute_result"
    }
   ],
   "source": [
    "word_token_1.filtered[4]"
   ]
  },
  {
   "cell_type": "code",
   "execution_count": 123,
   "id": "73dd7753",
   "metadata": {},
   "outputs": [
    {
     "data": {
      "text/plain": [
       "SparseVector(262144, {4412: 5.1573, 35213: 7.0291, 74789: 7.0291, 83106: 6.6236, 161758: 7.0291, 207680: 4.6777})"
      ]
     },
     "execution_count": 123,
     "metadata": {},
     "output_type": "execute_result"
    }
   ],
   "source": [
    "word_token_1.TFIDF[4]"
   ]
  },
  {
   "cell_type": "code",
   "execution_count": null,
   "id": "eaa26de0",
   "metadata": {},
   "outputs": [],
   "source": []
  },
  {
   "cell_type": "markdown",
   "id": "7881fe4d",
   "metadata": {},
   "source": [
    "## Modeling  Tweets Topic"
   ]
  },
  {
   "cell_type": "code",
   "execution_count": null,
   "id": "578a042e",
   "metadata": {},
   "outputs": [],
   "source": []
  },
  {
   "cell_type": "code",
   "execution_count": 125,
   "id": "c1fad632",
   "metadata": {
    "scrolled": true
   },
   "outputs": [
    {
     "name": "stdout",
     "output_type": "stream",
     "text": [
      "The topics described by their top-weighted terms:\n",
      "+-----+-----------------------+---------------------------------------------------------------------+\n",
      "|topic|termIndices            |termWeights                                                          |\n",
      "+-----+-----------------------+---------------------------------------------------------------------+\n",
      "|0    |[2903, 217717, 42434]  |[1.734842755698955E-4, 1.6230068023698996E-4, 1.3002519445698781E-4] |\n",
      "|1    |[38640, 249180, 89833] |[4.185095095737049E-4, 3.42043411015669E-4, 3.128435789258739E-4]    |\n",
      "|2    |[249180, 151393, 77407]|[0.0016264847548520694, 3.093773686671326E-4, 2.7793488126551057E-4] |\n",
      "|3    |[43265, 164359, 140762]|[0.0013828416768217988, 0.001121624697245928, 0.0010102484487148969] |\n",
      "|4    |[224590, 249180, 52426]|[4.70015415792075E-4, 4.2440763493126844E-4, 3.606693013514077E-4]   |\n",
      "|5    |[249180, 77407, 186480]|[0.0010853978535658821, 3.473550918148462E-4, 2.9464970745558366E-4] |\n",
      "|6    |[190256, 55905, 221416]|[2.2758832365001638E-4, 2.2217850532239706E-4, 1.9199264611143555E-4]|\n",
      "|7    |[71432, 249180, 82364] |[4.6260753900908424E-4, 3.069116480373383E-4, 2.3400355702138492E-4] |\n",
      "|8    |[75577, 250004, 92847] |[1.822850295918075E-4, 1.3752098779432016E-4, 1.1238156237544647E-4] |\n",
      "|9    |[188835, 32895, 200868]|[1.7116977047355276E-4, 1.2652404284996756E-4, 1.210263034339388E-4] |\n",
      "+-----+-----------------------+---------------------------------------------------------------------+\n",
      "\n",
      "+-------------------+-------------------------------------------------------------------------------------------------------------------------------------------------------------------------------------+------------------------------------------------------------------------------------------------------------------------------------------------------------------+-----------------------------------------------------------------------------------------------------------------------------------------------------------------------------------------------------------------------------------------------------+----------------------------------------------------------------------------------------------------------------------------------------------------------------------------------------------------------------------------------------------------------------------------------------------------------------------------------------------------------------------------------------------------------------------------------------------------------------------------------------------------------------------------------------------------------------------------+------------------------------------------------------------------------------------------------------------------------------------------------------------------------------------------------------------------------+\n",
      "|author_id          |words_token                                                                                                                                                                          |filtered                                                                                                                                                          |hashed                                                                                                                                                                                                                                               |TFIDF                                                                                                                                                                                                                                                                                                                                                                                                                                                                                                                                                                       |featurizedData                                                                                                                                                                                                          |\n",
      "+-------------------+-------------------------------------------------------------------------------------------------------------------------------------------------------------------------------------+------------------------------------------------------------------------------------------------------------------------------------------------------------------+-----------------------------------------------------------------------------------------------------------------------------------------------------------------------------------------------------------------------------------------------------+----------------------------------------------------------------------------------------------------------------------------------------------------------------------------------------------------------------------------------------------------------------------------------------------------------------------------------------------------------------------------------------------------------------------------------------------------------------------------------------------------------------------------------------------------------------------------+------------------------------------------------------------------------------------------------------------------------------------------------------------------------------------------------------------------------+\n",
      "|155909486          |[https://t.co/htjojyngvv]                                                                                                                                                            |[https://t.co/htjojyngvv]                                                                                                                                         |(262144,[81354],[1.0])                                                                                                                                                                                                                               |(262144,[81354],[7.029087564149662])                                                                                                                                                                                                                                                                                                                                                                                                                                                                                                                                        |[0.010299953762756752,0.011495250270449205,0.011095128400180197,0.012292205729181773,0.9018794315176768,0.011422315368988157,0.010692109218645978,0.01044229348594498,0.010188429161442945,0.0101928830847332]          |\n",
      "|1235404915515613184|[rt, @imrankhanpti:, tragic, news, about, the, army, aviation, helicopter, crash, &amp;, the, martyrdom, of, all, six, on, board., my, condolences, &amp;, prayers, to, the…]        |[rt, @imrankhanpti:, tragic, news, army, aviation, helicopter, crash, &amp;, martyrdom, six, board., condolences, &amp;, prayers, the…]                           |(262144,[32869,49185,54480,56118,67828,77407,98609,100985,105842,138341,168695,180297,210927,244324,258102],[1.0,1.0,2.0,1.0,1.0,1.0,1.0,1.0,1.0,1.0,1.0,1.0,1.0,1.0,1.0])                                                                           |(262144,[32869,49185,54480,56118,67828,77407,98609,100985,105842,138341,168695,180297,210927,244324,258102],[7.029087564149662,5.776324595654294,8.017325356010598,7.029087564149662,7.029087564149662,0.6834512033210661,7.029087564149662,7.029087564149662,7.029087564149662,7.029087564149662,6.335940383589716,7.029087564149662,7.029087564149662,7.029087564149662,7.029087564149662])                                                                                                                                                                               |[8.20601082592988E-4,0.9922530146669469,8.839539826033709E-4,9.793219960245521E-4,8.455135897683207E-4,9.10017291899795E-4,8.518428968912798E-4,8.319480933385358E-4,8.117159554297437E-4,8.120704445045573E-4]         |\n",
      "|15127829           |[rt, @shibleytelhami:, regardless, of, whether, or, not, americans, support, boycotts, of, israel,, two, thirds,, including, 52%, of, republicans, and, 82%, of…]                    |[rt, @shibleytelhami:, regardless, whether, americans, support, boycotts, israel,, two, thirds,, including, 52%, republicans, 82%, of…]                           |(262144,[8798,10156,33835,53326,77407,118749,129819,138478,177817,184774,190040,195182,249598,251394,258728],[1.0,1.0,1.0,1.0,1.0,1.0,1.0,1.0,1.0,1.0,1.0,1.0,1.0,1.0,1.0])                                                                          |(262144,[8798,10156,33835,53326,77407,118749,129819,138478,177817,184774,190040,195182,249598,251394,258728],[6.335940383589716,7.029087564149662,7.029087564149662,7.029087564149662,0.6834512033210661,7.029087564149662,7.029087564149662,7.029087564149662,5.930475275481553,6.623622456041498,6.623622456041498,7.029087564149662,6.623622456041498,6.623622456041498,5.525010167373388])                                                                                                                                                                              |[8.547975691977401E-4,9.540117955397931E-4,9.207918799012634E-4,0.00102015123881912,8.807492107011428E-4,9.479490006465751E-4,8.87341993469522E-4,8.666095260989295E-4,8.455419438086305E-4,0.9918220558418174]         |\n",
      "|235714500          |[@miguelm34149403, @krasnyyskorpion, mucho, bla, bla, bla, !!!, mejor, no, fuesen, dicho, nada,, ahora, han, quedado, arrodillados, 🤮]                                              |[@miguelm34149403, @krasnyyskorpion, mucho, bla, bla, bla, !!!, mejor, fuesen, dicho, nada,, ahora, han, quedado, arrodillados, 🤮]                               |(262144,[6805,15231,15261,71262,87323,91670,101806,105788,150795,152525,153642,183189,201211,211557],[1.0,1.0,1.0,1.0,1.0,1.0,1.0,1.0,1.0,3.0,1.0,1.0,1.0,1.0])                                                                                      |(262144,[6805,15231,15261,71262,87323,91670,101806,105788,150795,152525,153642,183189,201211,211557],[7.029087564149662,6.623622456041498,6.623622456041498,7.029087564149662,6.335940383589716,6.112796832275507,7.029087564149662,5.776324595654294,7.029087564149662,21.087262692448984,5.930475275481553,6.623622456041498,6.623622456041498,7.029087564149662])                                                                                                                                                                                                        |[0.9927945380810044,8.414785023742882E-4,8.12170193197341E-4,8.998870011451207E-4,7.76848832191409E-4,8.361151861279153E-4,7.826646446571938E-4,7.643798986053194E-4,7.45795959768369E-4,7.461217009285013E-4]          |\n",
      "|2630269581         |[alguém, pra, beber, hoje,, eu, imploro]                                                                                                                                             |[alguém, pra, beber, hoje,, eu, imploro]                                                                                                                          |(262144,[4412,35213,74789,83106,161758,207680],[1.0,1.0,1.0,1.0,1.0,1.0])                                                                                                                                                                            |(262144,[4412,35213,74789,83106,161758,207680],[5.157285387248071,7.029087564149662,7.029087564149662,6.623622456041498,7.029087564149662,4.677712306986185])                                                                                                                                                                                                                                                                                                                                                                                                               |[0.0021152644437947535,0.9800300745071279,0.002278624991122699,0.002524753213983706,0.0021794928272453173,0.0023458305836961567,0.0021958211885588085,0.002144507504789646,0.0020923599431107017,0.002093270796570221]  |\n",
      "|250641451          |[@cakivi, pues, a, mí, las, series, turcas…, https://t.co/riwdqpmjk6]                                                                                                                |[@cakivi, pues, mí, las, series, turcas…, https://t.co/riwdqpmjk6]                                                                                                |(262144,[19263,62885,65399,212653,230219,251390,259521],[1.0,1.0,1.0,1.0,1.0,1.0,1.0])                                                                                                                                                               |(262144,[19263,62885,65399,212653,230219,251390,259521],[5.930475275481553,6.623622456041498,7.029087564149662,6.335940383589716,7.029087564149662,4.726502471155617,7.029087564149662])                                                                                                                                                                                                                                                                                                                                                                                    |[0.0017829554039040165,0.001989990447108623,0.001920637333797064,0.7735904969015192,0.2115520952580116,0.0019773523169042137,0.0018508548830220948,0.0018075797249508588,0.0017636321092543389,0.0017644056215278224]   |\n",
      "|1511574672038678529|[@xxxxxichaos, https://t.co/0zuiml3pzh]                                                                                                                                              |[@xxxxxichaos, https://t.co/0zuiml3pzh]                                                                                                                           |(262144,[182986,241993],[1.0,1.0])                                                                                                                                                                                                                   |(262144,[182986,241993],[7.029087564149662,7.029087564149662])                                                                                                                                                                                                                                                                                                                                                                                                                                                                                                              |[0.9479509582342863,0.0060784176906574375,0.00586686176489098,0.006500389010725745,0.005611761441396749,0.00603980803287614,0.005653606185576232,0.005521480287084968,0.00538717315768295,0.0053895441948226055]        |\n",
      "|1549707188662329344|[rt, @supriya14061369:, de, ben, değiştirilmesi, yasanın, #kapaklı, gerekiyor.seninle, çok, #çerkezköy, memnunum., tembelim.belki, o, tanıştığıma, oldukça…]                         |[rt, @supriya14061369:, de, ben, değiştirilmesi, yasanın, #kapaklı, gerekiyor.seninle, çok, #çerkezköy, memnunum., tembelim.belki, o, tanıştığıma, oldukça…]      |(262144,[37864,39370,43265,68417,72931,77407,83580,86478,93341,102365,112394,141795,185062,186565,236066],[1.0,1.0,1.0,1.0,1.0,1.0,1.0,1.0,1.0,1.0,1.0,1.0,1.0,1.0,1.0])                                                                             |(262144,[37864,39370,43265,68417,72931,77407,83580,86478,93341,102365,112394,141795,185062,186565,236066],[5.525010167373388,6.623622456041498,2.5805711882069473,6.623622456041498,5.776324595654294,0.6834512033210661,4.0846485849832215,6.623622456041498,6.623622456041498,5.419649651715562,6.623622456041498,6.623622456041498,5.642793203029772,6.623622456041498,6.623622456041498])                                                                                                                                                                               |[9.721484529792631E-4,0.001084980227196295,0.001047218459969768,0.0011603759265389564,0.0010016629612404765,0.0010780763570246066,0.9907462902749707,9.855824211120734E-4,9.616223647009734E-4,9.620425542670482E-4]    |\n",
      "|2844363328         |[@ask_aubry, ouch!, harsh, -, but, fair.]                                                                                                                                            |[@ask_aubry, ouch!, harsh, -, fair.]                                                                                                                              |(262144,[33547,38640,106325,155643,250149],[1.0,1.0,1.0,1.0,1.0])                                                                                                                                                                                    |(262144,[33547,38640,106325,155643,250149],[7.029087564149662,4.111316832065383,7.029087564149662,7.029087564149662,7.029087564149662])                                                                                                                                                                                                                                                                                                                                                                                                                                     |[0.0024552294126225704,0.00274049656511178,0.002644825972819646,0.002930212383990149,0.0025297681029407422,0.002722759061945227,0.0025487053498005094,0.9765696528362288,0.0024286446984897814,0.0024297056160510586]   |\n",
      "|1164904756558671872|[rt, @darling_juuan17:, ', depois, de, um, belíssimo, show, no, terreirão, ,, 2, semanas, enjoada, ,, tomando, sorrisal, e, epocler, jurando, que, era, 2, semana, s…]               |[rt, @darling_juuan17:, ', depois, de, um, belíssimo, show, terreirão, ,, 2, semanas, enjoada, ,, tomando, sorrisal, e, epocler, jurando, que, era, 2, semana, s…]|(262144,[12524,20760,42102,43265,48181,63714,77407,93813,98198,116870,141331,164359,167694,169967,186171,192046,192598,214720,219606,222743,236790,245731],[2.0,1.0,1.0,1.0,1.0,1.0,1.0,1.0,1.0,1.0,2.0,1.0,1.0,1.0,1.0,1.0,1.0,1.0,1.0,1.0,1.0,1.0])|(262144,[12524,20760,42102,43265,48181,63714,77407,93813,98198,116870,141331,164359,167694,169967,186171,192046,192598,214720,219606,222743,236790,245731],[9.006717839682812,7.029087564149662,7.029087564149662,2.5805711882069473,7.029087564149662,7.029087564149662,0.6834512033210661,7.029087564149662,7.029087564149662,7.029087564149662,9.899292044939653,3.0308868624804637,4.321037363047452,7.029087564149662,7.029087564149662,7.029087564149662,5.776324595654294,5.419649651715562,7.029087564149662,7.029087564149662,5.776324595654294,5.776324595654294])|[5.908759993845366E-4,6.594663863706825E-4,6.36498751988517E-4,0.6339987337348564,6.088227033303701E-4,0.3611239680544515,6.133813237676024E-4,5.990416277902166E-4,5.844781773917389E-4,5.84733240668104E-4]           |\n",
      "|2853395560         |[rt, @halklarb:, 1-, #yediiklim, yayınlarının, sahiplerinden, selim, işık'ın, ak, parti, i̇lçe, başkanlıklarında, pozu, çıktı., öte, yandan, şu, an, sahibi, ola…]                   |[rt, @halklarb:, 1-, #yediiklim, yayınlarının, sahiplerinden, selim, işık'ın, ak, parti, i̇lçe, başkanlıklarında, pozu, çıktı., öte, yandan, şu, sahibi, ola…]    |(262144,[448,9173,72616,77407,88403,96357,99189,113157,114553,125361,130068,134133,137111,138902,168286,181747,241722,249653,255775],[1.0,1.0,1.0,1.0,1.0,1.0,1.0,1.0,1.0,1.0,1.0,1.0,1.0,1.0,1.0,1.0,1.0,1.0,1.0])                                  |(262144,[448,9173,72616,77407,88403,96357,99189,113157,114553,125361,130068,134133,137111,138902,168286,181747,241722,249653,255775],[7.029087564149662,7.029087564149662,7.029087564149662,0.6834512033210661,7.029087564149662,7.029087564149662,6.623622456041498,7.029087564149662,6.623622456041498,5.642793203029772,7.029087564149662,5.930475275481553,7.029087564149662,7.029087564149662,7.029087564149662,7.029087564149662,6.623622456041498,7.029087564149662,7.029087564149662])                                                                              |[6.53180720021046E-4,7.28979530562966E-4,7.036062332086875E-4,7.795195708231939E-4,6.73010489383097E-4,7.243526730968983E-4,6.780482749948722E-4,0.9937668036293761,6.461083435844743E-4,6.4639053494869E-4]            |\n",
      "|1545959455631855616|[rt, @k_koryy:, hola, bebés,, que, tal, están, mis, tetas?, 🤍, #nsfwtwt, , dale, 🤍, y, rt, si, te, gustan, ♡˖꒰ᵕ༚ᵕ⑅꒱, https://t.co/jrvetu0a5l]                                    |[rt, @k_koryy:, hola, bebés,, que, tal, están, mis, tetas?, 🤍, #nsfwtwt, , dale, 🤍, y, rt, si, te, gustan, ♡˖꒰ᵕ༚ᵕ⑅꒱, https://t.co/jrvetu0a5l]                 |(262144,[1212,12639,18943,27917,49943,77407,89189,111453,123447,135224,143255,157617,164359,174659,204740,220451,246885,249180,258035],[1.0,1.0,1.0,1.0,1.0,2.0,1.0,1.0,1.0,2.0,1.0,1.0,1.0,1.0,1.0,1.0,1.0,1.0,1.0])                                |(262144,[1212,12639,18943,27917,49943,77407,89189,111453,123447,135224,143255,157617,164359,174659,204740,220451,246885,249180,258035],[5.930475275481553,7.029087564149662,7.029087564149662,7.029087564149662,7.029087564149662,1.3669024066421323,6.623622456041498,4.677712306986185,5.930475275481553,11.860950550963105,7.029087564149662,6.335940383589716,3.0308868624804637,7.029087564149662,4.831862986813443,3.5791000183180746,7.029087564149662,1.57590548704071,7.029087564149662])                                                                          |[7.199393253879166E-4,0.2644017921487961,7.755408195723113E-4,0.6445688267853487,0.08583364128613709,7.984221788921051E-4,7.473545982790754E-4,7.298889187361652E-4,7.121403752501114E-4,7.124535636005389E-4]          |\n",
      "|3435629049         |[the, game, in, question, is, wildermyth,, and, to, be, fair,, this, old, ass, computer, is, *struggling*]                                                                           |[game, question, wildermyth,, fair,, old, ass, computer, *struggling*]                                                                                            |(262144,[74528,124879,126769,132215,138895,172590,182235,204931],[1.0,1.0,1.0,1.0,1.0,1.0,1.0,1.0])                                                                                                                                                  |(262144,[74528,124879,126769,132215,138895,172590,182235,204931],[6.623622456041498,7.029087564149662,5.930475275481553,7.029087564149662,5.237328094921607,7.029087564149662,5.419649651715562,6.623622456041498])                                                                                                                                                                                                                                                                                                                                                         |[0.0015688010706981243,0.0017508753071467636,0.08416682059276881,0.0018722283121121864,0.001616433745229305,0.9027015274380151,0.001628527868044442,0.001590478604632427,0.001551814854250329,0.0015524922071024675]    |\n",
      "|1551992304818442241|[rt, @champabegum3:, yılana, mi??kıvrıldıkları, #buca, mi??, yollar, icin, hep, zehirleyebilir, ayrılık, degil, insanı,, , benzetilir, hayır,, https://t.co/…]                       |[rt, @champabegum3:, yılana, mi??kıvrıldıkları, #buca, mi??, yollar, icin, hep, zehirleyebilir, ayrılık, degil, insanı,, , benzetilir, hayır,, https://t.co/…]    |(262144,[9782,39314,50476,60139,77407,95557,115738,123376,134133,156584,159690,162652,179549,213602,231791,236910,249180],[1.0,1.0,1.0,1.0,1.0,1.0,1.0,1.0,1.0,1.0,1.0,1.0,1.0,1.0,1.0,1.0,1.0])                                                     |(262144,[9782,39314,50476,60139,77407,95557,115738,123376,134133,156584,159690,162652,179549,213602,231791,236910,249180],[6.112796832275507,5.3243394719112365,5.157285387248071,6.112796832275507,0.6834512033210661,5.930475275481553,6.112796832275507,6.112796832275507,5.930475275481553,6.112796832275507,6.112796832275507,5.930475275481553,6.112796832275507,6.112796832275507,6.112796832275507,6.112796832275507,1.57590548704071])                                                                                                                             |[8.780348198107591E-4,9.79983177306411E-4,9.458581434688883E-4,0.0010480485447379253,0.6901149584536637,9.737603730145635E-4,9.114725698753005E-4,0.3024104546488499,8.685237422699943E-4,8.689055270025711E-4]         |\n",
      "|1234298697376243717|[rt, @strangerwriters:, day, 1, https://t.co/9m44rkjnc3]                                                                                                                             |[rt, @strangerwriters:, day, 1, https://t.co/9m44rkjnc3]                                                                                                          |(262144,[77407,92651,92879,96589,254061],[1.0,1.0,1.0,1.0,1.0])                                                                                                                                                                                      |(262144,[77407,92651,92879,96589,254061],[0.6834512033210661,5.083177415094348,6.623622456041498,6.623622456041498,5.083177415094348])                                                                                                                                                                                                                                                                                                                                                                                                                                      |[0.003255182373974283,0.003632955288744064,0.0035064875380674053,0.0038848016280807105,0.0033540051831121966,0.9692460135026186,0.0033791130173813225,0.003300162359064774,0.0032199363298044703,0.003221342779152228]  |\n",
      "|1493677073147183105|[rt, @mrddmia:, 🚨, , @speakerpelosi, and, @senschumer, are, building, their, own, army, of, federal, prosecutors., , how, is, it, constitutional, for, federal, pr…]                |[rt, @mrddmia:, 🚨, , @speakerpelosi, @senschumer, building, army, federal, prosecutors., , constitutional, federal, pr…]                                         |(262144,[13326,60728,77407,90428,145658,155704,168695,185513,211529,215979,249180,251767],[1.0,1.0,1.0,1.0,1.0,1.0,1.0,1.0,2.0,1.0,2.0,1.0])                                                                                                         |(262144,[13326,60728,77407,90428,145658,155704,168695,185513,211529,215979,249180,251767],[7.029087564149662,7.029087564149662,0.6834512033210661,6.623622456041498,7.029087564149662,6.623622456041498,6.335940383589716,5.776324595654294,13.247244912082996,7.029087564149662,3.15181097408142,6.623622456041498])                                                                                                                                                                                                                                                       |[0.0010409058996792505,0.6692348904084687,0.001121282561043595,0.0012422622212225913,0.3220107472302709,0.0011543617806478905,0.0010805367827993251,0.0010552927174707562,0.0010296354260758216,0.0010300849723212842]  |\n",
      "|734151730519101440 |[the, way, i've, evolved, as, a, #vtuber, , in, two, years, yet, kept, this, hair..., , wink, wink, nudge, nudge, is, something, coming, soon?!, , , maybe-, https://t.co/xv6tvkndiu]|[way, evolved, #vtuber, , two, years, yet, kept, hair..., , wink, wink, nudge, nudge, something, coming, soon?!, , , maybe-, https://t.co/xv6tvkndiu]             |(262144,[12409,51471,56409,57058,76106,107268,120720,125320,158421,159927,212280,216884,223378,241778,249180,258728],[1.0,1.0,2.0,1.0,1.0,2.0,1.0,1.0,1.0,1.0,1.0,1.0,1.0,1.0,4.0,1.0])                                                              |(262144,[12409,51471,56409,57058,76106,107268,120720,125320,158421,159927,212280,216884,223378,241778,249180,258728],[6.335940383589716,5.083177415094348,14.058175128299323,5.930475275481553,5.525010167373388,14.058175128299323,7.029087564149662,7.029087564149662,7.029087564149662,6.335940383589716,7.029087564149662,7.029087564149662,7.029087564149662,7.029087564149662,6.30362194816284,5.525010167373388])                                                                                                                                                    |[6.813940010321426E-4,7.605217308961343E-4,7.340224680516238E-4,0.2477581531562148,7.020885393017954E-4,0.7466173388502094,7.073433100083801E-4,6.90810751608548E-4,6.740148994281968E-4,6.743122932487797E-4]          |\n",
      "|1549708373804961794|[rt, @supriya14061369:, de, ben, değiştirilmesi, yasanın, #kapaklı, gerekiyor.seninle, çok, #çerkezköy, memnunum., tembelim.belki, o, tanıştığıma, oldukça…]                         |[rt, @supriya14061369:, de, ben, değiştirilmesi, yasanın, #kapaklı, gerekiyor.seninle, çok, #çerkezköy, memnunum., tembelim.belki, o, tanıştığıma, oldukça…]      |(262144,[37864,39370,43265,68417,72931,77407,83580,86478,93341,102365,112394,141795,185062,186565,236066],[1.0,1.0,1.0,1.0,1.0,1.0,1.0,1.0,1.0,1.0,1.0,1.0,1.0,1.0,1.0])                                                                             |(262144,[37864,39370,43265,68417,72931,77407,83580,86478,93341,102365,112394,141795,185062,186565,236066],[5.525010167373388,6.623622456041498,2.5805711882069473,6.623622456041498,5.776324595654294,0.6834512033210661,4.0846485849832215,6.623622456041498,6.623622456041498,5.419649651715562,6.623622456041498,6.623622456041498,5.642793203029772,6.623622456041498,6.623622456041498])                                                                                                                                                                               |[9.721484529792631E-4,0.001084980227196295,0.001047218459969768,0.0011603759265389564,0.0010016629612404765,0.0010780763570246066,0.9907462902749707,9.855824211120734E-4,9.616223647009734E-4,9.620425542670482E-4]    |\n",
      "|1392106786342191106|[rt, @itsbehtarmy:, i'm, voting, for, #jhope_more, from, the, #jackinthebox, album, by, #jhope, (@bts_twt), as, my, trending, song, choice..۱]                                       |[rt, @itsbehtarmy:, voting, #jhope_more, #jackinthebox, album, #jhope, (@bts_twt), trending, song, choice..۱]                                                     |(262144,[6801,17734,36906,46981,77407,82410,91929,102792,132803,232018,257528],[1.0,1.0,1.0,1.0,1.0,1.0,1.0,1.0,1.0,1.0,1.0])                                                                                                                        |(262144,[6801,17734,36906,46981,77407,82410,91929,102792,132803,232018,257528],[6.335940383589716,6.335940383589716,7.029087564149662,7.029087564149662,0.6834512033210661,7.029087564149662,7.029087564149662,7.029087564149662,7.029087564149662,6.112796832275507,6.623622456041498])                                                                                                                                                                                                                                                                                    |[0.0011751626299535813,0.001311537369101488,0.0012658860468875357,0.0014024567387207094,0.001210838925830821,0.9888974217263045,0.0012199104797965478,0.0011914009321401969,0.0011624389449976335,0.0011629462062668424]|\n",
      "|1551993574102863874|[rt, @champabegum3:, yılana, mi??kıvrıldıkları, #buca, mi??, yollar, icin, hep, zehirleyebilir, ayrılık, degil, insanı,, , benzetilir, hayır,, https://t.co/…]                       |[rt, @champabegum3:, yılana, mi??kıvrıldıkları, #buca, mi??, yollar, icin, hep, zehirleyebilir, ayrılık, degil, insanı,, , benzetilir, hayır,, https://t.co/…]    |(262144,[9782,39314,50476,60139,77407,95557,115738,123376,134133,156584,159690,162652,179549,213602,231791,236910,249180],[1.0,1.0,1.0,1.0,1.0,1.0,1.0,1.0,1.0,1.0,1.0,1.0,1.0,1.0,1.0,1.0,1.0])                                                     |(262144,[9782,39314,50476,60139,77407,95557,115738,123376,134133,156584,159690,162652,179549,213602,231791,236910,249180],[6.112796832275507,5.3243394719112365,5.157285387248071,6.112796832275507,0.6834512033210661,5.930475275481553,6.112796832275507,6.112796832275507,5.930475275481553,6.112796832275507,6.112796832275507,5.930475275481553,6.112796832275507,6.112796832275507,6.112796832275507,6.112796832275507,1.57590548704071])                                                                                                                             |[8.780348198107591E-4,9.79983177306411E-4,9.458581434688883E-4,0.0010480485447379253,0.6901149584536637,9.737603730145635E-4,9.114725698753005E-4,0.3024104546488499,8.685237422699943E-4,8.689055270025711E-4]         |\n",
      "+-------------------+-------------------------------------------------------------------------------------------------------------------------------------------------------------------------------------+------------------------------------------------------------------------------------------------------------------------------------------------------------------+-----------------------------------------------------------------------------------------------------------------------------------------------------------------------------------------------------------------------------------------------------+----------------------------------------------------------------------------------------------------------------------------------------------------------------------------------------------------------------------------------------------------------------------------------------------------------------------------------------------------------------------------------------------------------------------------------------------------------------------------------------------------------------------------------------------------------------------------+------------------------------------------------------------------------------------------------------------------------------------------------------------------------------------------------------------------------+\n",
      "only showing top 20 rows\n",
      "\n"
     ]
    }
   ],
   "source": [
    "from pyspark.ml.linalg import Vectors, SparseVector\n",
    "from pyspark.ml.clustering import LDA\n",
    "\n",
    "lda = LDA(\n",
    "    featuresCol='TFIDF',\n",
    "    seed=123,\n",
    "    maxIter=20,\n",
    "    k=10,\n",
    "    topicDistributionCol='featurizedData',\n",
    ")\n",
    "\n",
    "model = lda.fit(rescaledData)\n",
    "# Describe topics.\n",
    "topics = model.describeTopics(3)\n",
    "print(\"The topics described by their top-weighted terms:\")\n",
    "topics.show(truncate=False)\n",
    "\n",
    "# Shows the result\n",
    "transformed = model.transform(rescaledData)\n",
    "transformed.show(truncate=False)"
   ]
  },
  {
   "cell_type": "code",
   "execution_count": null,
   "id": "02daec2e",
   "metadata": {},
   "outputs": [],
   "source": []
  },
  {
   "cell_type": "code",
   "execution_count": 127,
   "id": "183fc17f",
   "metadata": {},
   "outputs": [
    {
     "name": "stdout",
     "output_type": "stream",
     "text": [
      "+-------------------+--------------------+--------------------+--------------------+--------------------+--------------------+\n",
      "|          author_id|         words_token|            filtered|              hashed|               TFIDF|      featurizedData|\n",
      "+-------------------+--------------------+--------------------+--------------------+--------------------+--------------------+\n",
      "|          155909486|[https://t.co/htj...|[https://t.co/htj...|(262144,[81354],[...|(262144,[81354],[...|[0.01029995376275...|\n",
      "|1235404915515613184|[rt, @imrankhanpt...|[rt, @imrankhanpt...|(262144,[32869,49...|(262144,[32869,49...|[8.20601082592988...|\n",
      "|           15127829|[rt, @shibleytelh...|[rt, @shibleytelh...|(262144,[8798,101...|(262144,[8798,101...|[8.54797569197740...|\n",
      "|          235714500|[@miguelm34149403...|[@miguelm34149403...|(262144,[6805,152...|(262144,[6805,152...|[0.99279453808100...|\n",
      "|         2630269581|[alguém, pra, beb...|[alguém, pra, beb...|(262144,[4412,352...|(262144,[4412,352...|[0.00211526444379...|\n",
      "+-------------------+--------------------+--------------------+--------------------+--------------------+--------------------+\n",
      "only showing top 5 rows\n",
      "\n"
     ]
    }
   ],
   "source": [
    "transformed.show(5)"
   ]
  },
  {
   "cell_type": "code",
   "execution_count": null,
   "id": "52b2fb16",
   "metadata": {
    "scrolled": true
   },
   "outputs": [],
   "source": []
  },
  {
   "cell_type": "code",
   "execution_count": 128,
   "id": "c17ca199",
   "metadata": {},
   "outputs": [
    {
     "name": "stdout",
     "output_type": "stream",
     "text": [
      "+--------------------+--------------------+--------------------+\n",
      "|            filtered|               TFIDF|      featurizedData|\n",
      "+--------------------+--------------------+--------------------+\n",
      "|[https://t.co/htj...|(262144,[81354],[...|[0.01029995376275...|\n",
      "|[rt, @imrankhanpt...|(262144,[32869,49...|[8.20601082592988...|\n",
      "|[rt, @shibleytelh...|(262144,[8798,101...|[8.54797569197740...|\n",
      "|[@miguelm34149403...|(262144,[6805,152...|[0.99279453808100...|\n",
      "|[alguém, pra, beb...|(262144,[4412,352...|[0.00211526444379...|\n",
      "+--------------------+--------------------+--------------------+\n",
      "only showing top 5 rows\n",
      "\n"
     ]
    }
   ],
   "source": [
    "word_token_= transformed.select(\"filtered\",'TFIDF','featurizedData')\n",
    "word_token_.show(5)"
   ]
  },
  {
   "cell_type": "code",
   "execution_count": 85,
   "id": "0a9db209",
   "metadata": {},
   "outputs": [
    {
     "name": "stdout",
     "output_type": "stream",
     "text": [
      "root\n",
      " |-- filtered: array (nullable = true)\n",
      " |    |-- element: string (containsNull = true)\n",
      " |-- TFIDF: vector (nullable = true)\n",
      " |-- featurizedData: vector (nullable = true)\n",
      "\n"
     ]
    }
   ],
   "source": [
    "word_token_.printSchema()"
   ]
  },
  {
   "cell_type": "code",
   "execution_count": null,
   "id": "d2cf90bc",
   "metadata": {},
   "outputs": [],
   "source": []
  },
  {
   "cell_type": "code",
   "execution_count": null,
   "id": "5479efd6",
   "metadata": {},
   "outputs": [],
   "source": []
  },
  {
   "cell_type": "code",
   "execution_count": 70,
   "id": "7fc98aef",
   "metadata": {},
   "outputs": [
    {
     "name": "stderr",
     "output_type": "stream",
     "text": [
      "WARNING:root:'PYARROW_IGNORE_TIMEZONE' environment variable was not set. It is required to set this environment variable to '1' in both driver and executor sides if you use pyarrow>=2.0.0. pandas-on-Spark will set it for you but it does not work if there is a Spark context already launched.\n"
     ]
    }
   ],
   "source": [
    "import pyspark.pandas as ps"
   ]
  },
  {
   "cell_type": "code",
   "execution_count": 129,
   "id": "de7d18da",
   "metadata": {},
   "outputs": [],
   "source": [
    "word_processed= word_token_.pandas_api()"
   ]
  },
  {
   "cell_type": "code",
   "execution_count": 130,
   "id": "94dd879a",
   "metadata": {},
   "outputs": [
    {
     "data": {
      "text/html": [
       "<div>\n",
       "<style scoped>\n",
       "    .dataframe tbody tr th:only-of-type {\n",
       "        vertical-align: middle;\n",
       "    }\n",
       "\n",
       "    .dataframe tbody tr th {\n",
       "        vertical-align: top;\n",
       "    }\n",
       "\n",
       "    .dataframe thead th {\n",
       "        text-align: right;\n",
       "    }\n",
       "</style>\n",
       "<table border=\"1\" class=\"dataframe\">\n",
       "  <thead>\n",
       "    <tr style=\"text-align: right;\">\n",
       "      <th></th>\n",
       "      <th>filtered</th>\n",
       "      <th>TFIDF</th>\n",
       "      <th>featurizedData</th>\n",
       "    </tr>\n",
       "  </thead>\n",
       "  <tbody>\n",
       "    <tr>\n",
       "      <th>0</th>\n",
       "      <td>[https://t.co/htjojyngvv]</td>\n",
       "      <td>(0.0, 0.0, 0.0, 0.0, 0.0, 0.0, 0.0, 0.0, 0.0, ...</td>\n",
       "      <td>[0.010299953762756752, 0.011495250270449205, 0...</td>\n",
       "    </tr>\n",
       "    <tr>\n",
       "      <th>1</th>\n",
       "      <td>[rt, @imrankhanpti:, tragic, news, army, aviat...</td>\n",
       "      <td>(0.0, 0.0, 0.0, 0.0, 0.0, 0.0, 0.0, 0.0, 0.0, ...</td>\n",
       "      <td>[0.000820601082592988, 0.9922530146669469, 0.0...</td>\n",
       "    </tr>\n",
       "    <tr>\n",
       "      <th>2</th>\n",
       "      <td>[rt, @shibleytelhami:, regardless, whether, am...</td>\n",
       "      <td>(0.0, 0.0, 0.0, 0.0, 0.0, 0.0, 0.0, 0.0, 0.0, ...</td>\n",
       "      <td>[0.0008547975691977401, 0.0009540117955397931,...</td>\n",
       "    </tr>\n",
       "    <tr>\n",
       "      <th>3</th>\n",
       "      <td>[@miguelm34149403, @krasnyyskorpion, mucho, bl...</td>\n",
       "      <td>(0.0, 0.0, 0.0, 0.0, 0.0, 0.0, 0.0, 0.0, 0.0, ...</td>\n",
       "      <td>[0.9927945380810044, 0.0008414785023742882, 0....</td>\n",
       "    </tr>\n",
       "    <tr>\n",
       "      <th>4</th>\n",
       "      <td>[alguém, pra, beber, hoje,, eu, imploro]</td>\n",
       "      <td>(0.0, 0.0, 0.0, 0.0, 0.0, 0.0, 0.0, 0.0, 0.0, ...</td>\n",
       "      <td>[0.0021152644437947535, 0.9800300745071279, 0....</td>\n",
       "    </tr>\n",
       "  </tbody>\n",
       "</table>\n",
       "</div>"
      ],
      "text/plain": [
       "                                                                                                                                  filtered                                                                                                                                                                                                                                                                                                                                                                                                                                                                                                                      TFIDF                                                                                                                                                                                                                     featurizedData\n",
       "0                                                                                                                [https://t.co/htjojyngvv]  (0.0, 0.0, 0.0, 0.0, 0.0, 0.0, 0.0, 0.0, 0.0, 0.0, 0.0, 0.0, 0.0, 0.0, 0.0, 0.0, 0.0, 0.0, 0.0, 0.0, 0.0, 0.0, 0.0, 0.0, 0.0, 0.0, 0.0, 0.0, 0.0, 0.0, 0.0, 0.0, 0.0, 0.0, 0.0, 0.0, 0.0, 0.0, 0.0, 0.0, 0.0, 0.0, 0.0, 0.0, 0.0, 0.0, 0.0, 0.0, 0.0, 0.0, 0.0, 0.0, 0.0, 0.0, 0.0, 0.0, 0.0, 0.0, 0.0, 0.0, 0.0, 0.0, 0.0, 0.0, 0.0, 0.0, 0.0, 0.0, 0.0, 0.0, 0.0, 0.0, 0.0, 0.0, 0.0, 0.0, 0.0, 0.0, 0.0, 0.0, 0.0, 0.0, 0.0, 0.0, 0.0, 0.0, 0.0, 0.0, 0.0, 0.0, 0.0, 0.0, 0.0, 0.0, 0.0, 0.0, 0.0, 0.0, 0.0, 0.0, ...)            [0.010299953762756752, 0.011495250270449205, 0.011095128400180197, 0.012292205729181773, 0.9018794315176768, 0.011422315368988157, 0.010692109218645978, 0.01044229348594498, 0.010188429161442945, 0.0101928830847332]\n",
       "1  [rt, @imrankhanpti:, tragic, news, army, aviation, helicopter, crash, &amp;, martyrdom, six, board., condolences, &amp;, prayers, the…]  (0.0, 0.0, 0.0, 0.0, 0.0, 0.0, 0.0, 0.0, 0.0, 0.0, 0.0, 0.0, 0.0, 0.0, 0.0, 0.0, 0.0, 0.0, 0.0, 0.0, 0.0, 0.0, 0.0, 0.0, 0.0, 0.0, 0.0, 0.0, 0.0, 0.0, 0.0, 0.0, 0.0, 0.0, 0.0, 0.0, 0.0, 0.0, 0.0, 0.0, 0.0, 0.0, 0.0, 0.0, 0.0, 0.0, 0.0, 0.0, 0.0, 0.0, 0.0, 0.0, 0.0, 0.0, 0.0, 0.0, 0.0, 0.0, 0.0, 0.0, 0.0, 0.0, 0.0, 0.0, 0.0, 0.0, 0.0, 0.0, 0.0, 0.0, 0.0, 0.0, 0.0, 0.0, 0.0, 0.0, 0.0, 0.0, 0.0, 0.0, 0.0, 0.0, 0.0, 0.0, 0.0, 0.0, 0.0, 0.0, 0.0, 0.0, 0.0, 0.0, 0.0, 0.0, 0.0, 0.0, 0.0, 0.0, 0.0, 0.0, ...)  [0.000820601082592988, 0.9922530146669469, 0.0008839539826033709, 0.0009793219960245521, 0.0008455135897683207, 0.000910017291899795, 0.0008518428968912798, 0.0008319480933385358, 0.0008117159554297437, 0.0008120704445045573]\n",
       "2  [rt, @shibleytelhami:, regardless, whether, americans, support, boycotts, israel,, two, thirds,, including, 52%, republicans, 82%, of…]  (0.0, 0.0, 0.0, 0.0, 0.0, 0.0, 0.0, 0.0, 0.0, 0.0, 0.0, 0.0, 0.0, 0.0, 0.0, 0.0, 0.0, 0.0, 0.0, 0.0, 0.0, 0.0, 0.0, 0.0, 0.0, 0.0, 0.0, 0.0, 0.0, 0.0, 0.0, 0.0, 0.0, 0.0, 0.0, 0.0, 0.0, 0.0, 0.0, 0.0, 0.0, 0.0, 0.0, 0.0, 0.0, 0.0, 0.0, 0.0, 0.0, 0.0, 0.0, 0.0, 0.0, 0.0, 0.0, 0.0, 0.0, 0.0, 0.0, 0.0, 0.0, 0.0, 0.0, 0.0, 0.0, 0.0, 0.0, 0.0, 0.0, 0.0, 0.0, 0.0, 0.0, 0.0, 0.0, 0.0, 0.0, 0.0, 0.0, 0.0, 0.0, 0.0, 0.0, 0.0, 0.0, 0.0, 0.0, 0.0, 0.0, 0.0, 0.0, 0.0, 0.0, 0.0, 0.0, 0.0, 0.0, 0.0, 0.0, 0.0, ...)   [0.0008547975691977401, 0.0009540117955397931, 0.0009207918799012634, 0.00102015123881912, 0.0008807492107011428, 0.0009479490006465751, 0.000887341993469522, 0.0008666095260989295, 0.0008455419438086305, 0.9918220558418174]\n",
       "3       [@miguelm34149403, @krasnyyskorpion, mucho, bla, bla, bla, !!!, mejor, fuesen, dicho, nada,, ahora, han, quedado, arrodillados, 🤮]  (0.0, 0.0, 0.0, 0.0, 0.0, 0.0, 0.0, 0.0, 0.0, 0.0, 0.0, 0.0, 0.0, 0.0, 0.0, 0.0, 0.0, 0.0, 0.0, 0.0, 0.0, 0.0, 0.0, 0.0, 0.0, 0.0, 0.0, 0.0, 0.0, 0.0, 0.0, 0.0, 0.0, 0.0, 0.0, 0.0, 0.0, 0.0, 0.0, 0.0, 0.0, 0.0, 0.0, 0.0, 0.0, 0.0, 0.0, 0.0, 0.0, 0.0, 0.0, 0.0, 0.0, 0.0, 0.0, 0.0, 0.0, 0.0, 0.0, 0.0, 0.0, 0.0, 0.0, 0.0, 0.0, 0.0, 0.0, 0.0, 0.0, 0.0, 0.0, 0.0, 0.0, 0.0, 0.0, 0.0, 0.0, 0.0, 0.0, 0.0, 0.0, 0.0, 0.0, 0.0, 0.0, 0.0, 0.0, 0.0, 0.0, 0.0, 0.0, 0.0, 0.0, 0.0, 0.0, 0.0, 0.0, 0.0, 0.0, 0.0, ...)   [0.9927945380810044, 0.0008414785023742882, 0.000812170193197341, 0.0008998870011451207, 0.000776848832191409, 0.0008361151861279153, 0.0007826646446571938, 0.0007643798986053194, 0.000745795959768369, 0.0007461217009285013]\n",
       "4                                                                                                 [alguém, pra, beber, hoje,, eu, imploro]  (0.0, 0.0, 0.0, 0.0, 0.0, 0.0, 0.0, 0.0, 0.0, 0.0, 0.0, 0.0, 0.0, 0.0, 0.0, 0.0, 0.0, 0.0, 0.0, 0.0, 0.0, 0.0, 0.0, 0.0, 0.0, 0.0, 0.0, 0.0, 0.0, 0.0, 0.0, 0.0, 0.0, 0.0, 0.0, 0.0, 0.0, 0.0, 0.0, 0.0, 0.0, 0.0, 0.0, 0.0, 0.0, 0.0, 0.0, 0.0, 0.0, 0.0, 0.0, 0.0, 0.0, 0.0, 0.0, 0.0, 0.0, 0.0, 0.0, 0.0, 0.0, 0.0, 0.0, 0.0, 0.0, 0.0, 0.0, 0.0, 0.0, 0.0, 0.0, 0.0, 0.0, 0.0, 0.0, 0.0, 0.0, 0.0, 0.0, 0.0, 0.0, 0.0, 0.0, 0.0, 0.0, 0.0, 0.0, 0.0, 0.0, 0.0, 0.0, 0.0, 0.0, 0.0, 0.0, 0.0, 0.0, 0.0, 0.0, 0.0, ...)    [0.0021152644437947535, 0.9800300745071279, 0.002278624991122699, 0.002524753213983706, 0.0021794928272453173, 0.0023458305836961567, 0.0021958211885588085, 0.002144507504789646, 0.0020923599431107017, 0.002093270796570221]"
      ]
     },
     "execution_count": 130,
     "metadata": {},
     "output_type": "execute_result"
    }
   ],
   "source": [
    "word_processed.head()"
   ]
  },
  {
   "cell_type": "code",
   "execution_count": null,
   "id": "d677fc56",
   "metadata": {},
   "outputs": [],
   "source": []
  },
  {
   "cell_type": "code",
   "execution_count": 133,
   "id": "f68a2a7b",
   "metadata": {},
   "outputs": [
    {
     "data": {
      "text/plain": [
       "['rt',\n",
       " '@shibleytelhami:',\n",
       " 'regardless',\n",
       " 'whether',\n",
       " 'americans',\n",
       " 'support',\n",
       " 'boycotts',\n",
       " 'israel,',\n",
       " 'two',\n",
       " 'thirds,',\n",
       " 'including',\n",
       " '52%',\n",
       " 'republicans',\n",
       " '82%',\n",
       " 'of…']"
      ]
     },
     "execution_count": 133,
     "metadata": {},
     "output_type": "execute_result"
    }
   ],
   "source": [
    "word_processed.filtered[2]"
   ]
  },
  {
   "cell_type": "code",
   "execution_count": 134,
   "id": "64b56504",
   "metadata": {},
   "outputs": [
    {
     "data": {
      "text/plain": [
       "SparseVector(262144, {8798: 6.3359, 10156: 7.0291, 33835: 7.0291, 53326: 7.0291, 77407: 0.6835, 118749: 7.0291, 129819: 7.0291, 138478: 7.0291, 177817: 5.9305, 184774: 6.6236, 190040: 6.6236, 195182: 7.0291, 249598: 6.6236, 251394: 6.6236, 258728: 5.525})"
      ]
     },
     "execution_count": 134,
     "metadata": {},
     "output_type": "execute_result"
    }
   ],
   "source": [
    "word_processed.TFIDF[2]"
   ]
  },
  {
   "cell_type": "code",
   "execution_count": 139,
   "id": "a0e13a99",
   "metadata": {},
   "outputs": [
    {
     "data": {
      "text/plain": [
       "DenseVector([0.0009, 0.001, 0.0009, 0.001, 0.0009, 0.0009, 0.0009, 0.0009, 0.0008, 0.9918])"
      ]
     },
     "execution_count": 139,
     "metadata": {},
     "output_type": "execute_result"
    }
   ],
   "source": [
    "word_processed.featurizedData[2]"
   ]
  },
  {
   "cell_type": "code",
   "execution_count": null,
   "id": "ea31c4e8",
   "metadata": {},
   "outputs": [],
   "source": []
  },
  {
   "cell_type": "code",
   "execution_count": null,
   "id": "68396777",
   "metadata": {},
   "outputs": [],
   "source": []
  },
  {
   "cell_type": "code",
   "execution_count": 131,
   "id": "7701d69a",
   "metadata": {},
   "outputs": [],
   "source": [
    "topics_model = topics.pandas_api()"
   ]
  },
  {
   "cell_type": "code",
   "execution_count": 132,
   "id": "2fc527d2",
   "metadata": {
    "scrolled": true
   },
   "outputs": [
    {
     "data": {
      "text/html": [
       "<div>\n",
       "<style scoped>\n",
       "    .dataframe tbody tr th:only-of-type {\n",
       "        vertical-align: middle;\n",
       "    }\n",
       "\n",
       "    .dataframe tbody tr th {\n",
       "        vertical-align: top;\n",
       "    }\n",
       "\n",
       "    .dataframe thead th {\n",
       "        text-align: right;\n",
       "    }\n",
       "</style>\n",
       "<table border=\"1\" class=\"dataframe\">\n",
       "  <thead>\n",
       "    <tr style=\"text-align: right;\">\n",
       "      <th></th>\n",
       "      <th>topic</th>\n",
       "      <th>termIndices</th>\n",
       "      <th>termWeights</th>\n",
       "    </tr>\n",
       "  </thead>\n",
       "  <tbody>\n",
       "    <tr>\n",
       "      <th>0</th>\n",
       "      <td>0</td>\n",
       "      <td>[2903, 217717, 42434]</td>\n",
       "      <td>[0.0001734842755698955, 0.00016230068023698996...</td>\n",
       "    </tr>\n",
       "    <tr>\n",
       "      <th>1</th>\n",
       "      <td>1</td>\n",
       "      <td>[38640, 249180, 89833]</td>\n",
       "      <td>[0.0004185095095737049, 0.000342043411015669, ...</td>\n",
       "    </tr>\n",
       "    <tr>\n",
       "      <th>2</th>\n",
       "      <td>2</td>\n",
       "      <td>[249180, 151393, 77407]</td>\n",
       "      <td>[0.0016264847548520694, 0.0003093773686671326,...</td>\n",
       "    </tr>\n",
       "    <tr>\n",
       "      <th>3</th>\n",
       "      <td>3</td>\n",
       "      <td>[43265, 164359, 140762]</td>\n",
       "      <td>[0.0013828416768217988, 0.001121624697245928, ...</td>\n",
       "    </tr>\n",
       "    <tr>\n",
       "      <th>4</th>\n",
       "      <td>4</td>\n",
       "      <td>[224590, 249180, 52426]</td>\n",
       "      <td>[0.000470015415792075, 0.00042440763493126844,...</td>\n",
       "    </tr>\n",
       "    <tr>\n",
       "      <th>5</th>\n",
       "      <td>5</td>\n",
       "      <td>[249180, 77407, 186480]</td>\n",
       "      <td>[0.0010853978535658821, 0.0003473550918148462,...</td>\n",
       "    </tr>\n",
       "    <tr>\n",
       "      <th>6</th>\n",
       "      <td>6</td>\n",
       "      <td>[190256, 55905, 221416]</td>\n",
       "      <td>[0.00022758832365001638, 0.0002221785053223970...</td>\n",
       "    </tr>\n",
       "    <tr>\n",
       "      <th>7</th>\n",
       "      <td>7</td>\n",
       "      <td>[71432, 249180, 82364]</td>\n",
       "      <td>[0.00046260753900908424, 0.0003069116480373383...</td>\n",
       "    </tr>\n",
       "    <tr>\n",
       "      <th>8</th>\n",
       "      <td>8</td>\n",
       "      <td>[75577, 250004, 92847]</td>\n",
       "      <td>[0.0001822850295918075, 0.00013752098779432016...</td>\n",
       "    </tr>\n",
       "    <tr>\n",
       "      <th>9</th>\n",
       "      <td>9</td>\n",
       "      <td>[188835, 32895, 200868]</td>\n",
       "      <td>[0.00017116977047355276, 0.0001265240428499675...</td>\n",
       "    </tr>\n",
       "  </tbody>\n",
       "</table>\n",
       "</div>"
      ],
      "text/plain": [
       "   topic              termIndices                                                               termWeights\n",
       "0      0    [2903, 217717, 42434]   [0.0001734842755698955, 0.00016230068023698996, 0.00013002519445698781]\n",
       "1      1   [38640, 249180, 89833]      [0.0004185095095737049, 0.000342043411015669, 0.0003128435789258739]\n",
       "2      2  [249180, 151393, 77407]    [0.0016264847548520694, 0.0003093773686671326, 0.00027793488126551057]\n",
       "3      3  [43265, 164359, 140762]      [0.0013828416768217988, 0.001121624697245928, 0.0010102484487148969]\n",
       "4      4  [224590, 249180, 52426]     [0.000470015415792075, 0.00042440763493126844, 0.0003606693013514077]\n",
       "5      5  [249180, 77407, 186480]    [0.0010853978535658821, 0.0003473550918148462, 0.00029464970745558366]\n",
       "6      6  [190256, 55905, 221416]  [0.00022758832365001638, 0.00022217850532239706, 0.00019199264611143555]\n",
       "7      7   [71432, 249180, 82364]   [0.00046260753900908424, 0.0003069116480373383, 0.00023400355702138492]\n",
       "8      8   [75577, 250004, 92847]   [0.0001822850295918075, 0.00013752098779432016, 0.00011238156237544647]\n",
       "9      9  [188835, 32895, 200868]   [0.00017116977047355276, 0.00012652404284996756, 0.0001210263034339388]"
      ]
     },
     "execution_count": 132,
     "metadata": {},
     "output_type": "execute_result"
    }
   ],
   "source": [
    "topics_model"
   ]
  },
  {
   "cell_type": "code",
   "execution_count": 136,
   "id": "3b88fa98",
   "metadata": {},
   "outputs": [
    {
     "data": {
      "text/plain": [
       "[249180, 151393, 77407]"
      ]
     },
     "execution_count": 136,
     "metadata": {},
     "output_type": "execute_result"
    }
   ],
   "source": [
    "topics_model.termIndices[2]"
   ]
  },
  {
   "cell_type": "code",
   "execution_count": null,
   "id": "a65b3cb9",
   "metadata": {},
   "outputs": [],
   "source": []
  },
  {
   "cell_type": "code",
   "execution_count": null,
   "id": "8a6ce05b",
   "metadata": {},
   "outputs": [],
   "source": []
  },
  {
   "cell_type": "code",
   "execution_count": null,
   "id": "2a0d1991",
   "metadata": {},
   "outputs": [],
   "source": []
  },
  {
   "cell_type": "code",
   "execution_count": 199,
   "id": "a07aeb87",
   "metadata": {
    "scrolled": true
   },
   "outputs": [
    {
     "name": "stdout",
     "output_type": "stream",
     "text": [
      "+-----+--------------------+\n",
      "|label|            features|\n",
      "+-----+--------------------+\n",
      "|  0.0|(20,[6,8,13,16],[...|\n",
      "|  0.0|(20,[0,2,7,13,15,...|\n",
      "|  1.0|(20,[3,4,6,11,19]...|\n",
      "+-----+--------------------+\n",
      "\n"
     ]
    }
   ],
   "source": [
    "from pyspark.ml.feature import HashingTF, IDF, Tokenizer\n",
    "\n",
    "sentenceData = spark.createDataFrame([\n",
    "    (0.0, \"Hi I heard about Spark\"),\n",
    "    (0.0, \"I wish Java could use case classes\"),\n",
    "    (1.0, \"Logistic regression models are neat\")\n",
    "], [\"label\", \"sentence\"])\n",
    "\n",
    "tokenizer = Tokenizer(inputCol=\"sentence\", outputCol=\"words\")\n",
    "wordsData = tokenizer.transform(sentenceData)\n",
    "\n",
    "hashingTF = HashingTF(inputCol=\"words\", outputCol=\"rawFeatures\",numFeatures=20)\n",
    "featurizedData = hashingTF.transform(wordsData)\n",
    "# alternatively, CountVectorizer can also be used to get term frequency vectors\n",
    "\n",
    "\n",
    "\n",
    "idf = IDF(inputCol=\"rawFeatures\", outputCol=\"features\")\n",
    "idfModel = idf.fit(featurizedData)\n",
    "rescaledData = idfModel.transform(featurizedData)\n",
    "\n",
    "rescaledData.select(\"label\", \"features\").show()"
   ]
  },
  {
   "cell_type": "code",
   "execution_count": 200,
   "id": "c6f7433a",
   "metadata": {},
   "outputs": [],
   "source": [
    "test = rescaledData.pandas_api()"
   ]
  },
  {
   "cell_type": "code",
   "execution_count": 201,
   "id": "b48619b7",
   "metadata": {},
   "outputs": [
    {
     "data": {
      "text/html": [
       "<div>\n",
       "<style scoped>\n",
       "    .dataframe tbody tr th:only-of-type {\n",
       "        vertical-align: middle;\n",
       "    }\n",
       "\n",
       "    .dataframe tbody tr th {\n",
       "        vertical-align: top;\n",
       "    }\n",
       "\n",
       "    .dataframe thead th {\n",
       "        text-align: right;\n",
       "    }\n",
       "</style>\n",
       "<table border=\"1\" class=\"dataframe\">\n",
       "  <thead>\n",
       "    <tr style=\"text-align: right;\">\n",
       "      <th></th>\n",
       "      <th>label</th>\n",
       "      <th>sentence</th>\n",
       "      <th>words</th>\n",
       "      <th>rawFeatures</th>\n",
       "      <th>features</th>\n",
       "    </tr>\n",
       "  </thead>\n",
       "  <tbody>\n",
       "    <tr>\n",
       "      <th>0</th>\n",
       "      <td>0.0</td>\n",
       "      <td>Hi I heard about Spark</td>\n",
       "      <td>[hi, i, heard, about, spark]</td>\n",
       "      <td>(0.0, 0.0, 0.0, 0.0, 0.0, 0.0, 1.0, 0.0, 1.0, ...</td>\n",
       "      <td>(0.0, 0.0, 0.0, 0.0, 0.0, 0.0, 0.2876820724517...</td>\n",
       "    </tr>\n",
       "    <tr>\n",
       "      <th>1</th>\n",
       "      <td>0.0</td>\n",
       "      <td>I wish Java could use case classes</td>\n",
       "      <td>[i, wish, java, could, use, case, classes]</td>\n",
       "      <td>(1.0, 0.0, 1.0, 0.0, 0.0, 0.0, 0.0, 2.0, 0.0, ...</td>\n",
       "      <td>(0.6931471805599453, 0.0, 0.6931471805599453, ...</td>\n",
       "    </tr>\n",
       "    <tr>\n",
       "      <th>2</th>\n",
       "      <td>1.0</td>\n",
       "      <td>Logistic regression models are neat</td>\n",
       "      <td>[logistic, regression, models, are, neat]</td>\n",
       "      <td>(0.0, 0.0, 0.0, 1.0, 1.0, 0.0, 1.0, 0.0, 0.0, ...</td>\n",
       "      <td>(0.0, 0.0, 0.0, 0.6931471805599453, 0.69314718...</td>\n",
       "    </tr>\n",
       "  </tbody>\n",
       "</table>\n",
       "</div>"
      ],
      "text/plain": [
       "   label                             sentence                                       words                                                                                           rawFeatures                                                                                                                                                                                          features\n",
       "0    0.0               Hi I heard about Spark                [hi, i, heard, about, spark]  (0.0, 0.0, 0.0, 0.0, 0.0, 0.0, 1.0, 0.0, 1.0, 0.0, 0.0, 0.0, 0.0, 1.0, 0.0, 0.0, 2.0, 0.0, 0.0, 0.0)                                (0.0, 0.0, 0.0, 0.0, 0.0, 0.0, 0.28768207245178085, 0.0, 0.6931471805599453, 0.0, 0.0, 0.0, 0.0, 0.28768207245178085, 0.0, 0.0, 0.5753641449035617, 0.0, 0.0, 0.0)\n",
       "1    0.0   I wish Java could use case classes  [i, wish, java, could, use, case, classes]  (1.0, 0.0, 1.0, 0.0, 0.0, 0.0, 0.0, 2.0, 0.0, 0.0, 0.0, 0.0, 0.0, 1.0, 0.0, 1.0, 1.0, 0.0, 0.0, 0.0)  (0.6931471805599453, 0.0, 0.6931471805599453, 0.0, 0.0, 0.0, 0.0, 1.3862943611198906, 0.0, 0.0, 0.0, 0.0, 0.0, 0.28768207245178085, 0.0, 0.6931471805599453, 0.28768207245178085, 0.0, 0.0, 0.0)\n",
       "2    1.0  Logistic regression models are neat   [logistic, regression, models, are, neat]  (0.0, 0.0, 0.0, 1.0, 1.0, 0.0, 1.0, 0.0, 0.0, 0.0, 0.0, 1.0, 0.0, 0.0, 0.0, 0.0, 0.0, 0.0, 0.0, 1.0)                  (0.0, 0.0, 0.0, 0.6931471805599453, 0.6931471805599453, 0.0, 0.28768207245178085, 0.0, 0.0, 0.0, 0.0, 0.6931471805599453, 0.0, 0.0, 0.0, 0.0, 0.0, 0.0, 0.0, 0.6931471805599453)"
      ]
     },
     "execution_count": 201,
     "metadata": {},
     "output_type": "execute_result"
    }
   ],
   "source": [
    "test"
   ]
  },
  {
   "cell_type": "code",
   "execution_count": 243,
   "id": "718b518d",
   "metadata": {},
   "outputs": [
    {
     "data": {
      "text/plain": [
       "SparseVector(20, {3: 0.6931, 4: 0.6931, 6: 0.2877, 11: 0.6931, 19: 0.6931})"
      ]
     },
     "execution_count": 243,
     "metadata": {},
     "output_type": "execute_result"
    }
   ],
   "source": [
    "test.features[2]"
   ]
  },
  {
   "cell_type": "code",
   "execution_count": 235,
   "id": "9fa0d375",
   "metadata": {},
   "outputs": [
    {
     "data": {
      "text/plain": [
       "7"
      ]
     },
     "execution_count": 235,
     "metadata": {},
     "output_type": "execute_result"
    }
   ],
   "source": [
    "hashingTF.indexOf('java')"
   ]
  },
  {
   "cell_type": "code",
   "execution_count": 241,
   "id": "d59d4eea",
   "metadata": {},
   "outputs": [
    {
     "name": "stdout",
     "output_type": "stream",
     "text": [
      "hi 8\n",
      "i 16\n",
      "heard 13\n",
      "about 16\n",
      "spark 6\n"
     ]
    }
   ],
   "source": [
    "for i in test.words[0]:\n",
    "    print(i, hashingTF.indexOf(i))"
   ]
  },
  {
   "cell_type": "code",
   "execution_count": 239,
   "id": "ff92d73f",
   "metadata": {},
   "outputs": [
    {
     "name": "stdout",
     "output_type": "stream",
     "text": [
      "i 16\n",
      "wish 15\n",
      "java 7\n",
      "could 0\n",
      "use 13\n",
      "case 2\n",
      "classes 7\n"
     ]
    }
   ],
   "source": [
    "for i in test.words[1]:\n",
    "    print(i, hashingTF.indexOf(i))"
   ]
  },
  {
   "cell_type": "code",
   "execution_count": 240,
   "id": "8b403f7b",
   "metadata": {},
   "outputs": [
    {
     "name": "stdout",
     "output_type": "stream",
     "text": [
      "logistic 4\n",
      "regression 19\n",
      "models 11\n",
      "are 3\n",
      "neat 6\n"
     ]
    }
   ],
   "source": [
    "for i in test.words[2]:\n",
    "    print(i, hashingTF.indexOf(i))"
   ]
  },
  {
   "cell_type": "code",
   "execution_count": 202,
   "id": "0db3563f",
   "metadata": {},
   "outputs": [
    {
     "data": {
      "text/plain": [
       "['i', 'wish', 'java', 'could', 'use', 'case', 'classes']"
      ]
     },
     "execution_count": 202,
     "metadata": {},
     "output_type": "execute_result"
    }
   ],
   "source": [
    "test.words[1]"
   ]
  },
  {
   "cell_type": "code",
   "execution_count": 211,
   "id": "b9a9a80b",
   "metadata": {},
   "outputs": [
    {
     "data": {
      "text/plain": [
       "SparseVector(20, {6: 0.2877, 8: 0.6931, 13: 0.2877, 16: 0.5754})"
      ]
     },
     "execution_count": 211,
     "metadata": {},
     "output_type": "execute_result"
    }
   ],
   "source": [
    "test.features[0]"
   ]
  },
  {
   "cell_type": "code",
   "execution_count": 212,
   "id": "17a144af",
   "metadata": {},
   "outputs": [
    {
     "data": {
      "text/plain": [
       "SparseVector(20, {0: 0.6931, 2: 0.6931, 7: 1.3863, 13: 0.2877, 15: 0.6931, 16: 0.2877})"
      ]
     },
     "execution_count": 212,
     "metadata": {},
     "output_type": "execute_result"
    }
   ],
   "source": [
    "test.features[1]"
   ]
  },
  {
   "cell_type": "code",
   "execution_count": 213,
   "id": "ffa34373",
   "metadata": {},
   "outputs": [
    {
     "data": {
      "text/plain": [
       "SparseVector(20, {3: 0.6931, 4: 0.6931, 6: 0.2877, 11: 0.6931, 19: 0.6931})"
      ]
     },
     "execution_count": 213,
     "metadata": {},
     "output_type": "execute_result"
    }
   ],
   "source": [
    "test.features[2]"
   ]
  },
  {
   "cell_type": "code",
   "execution_count": null,
   "id": "06578295",
   "metadata": {},
   "outputs": [],
   "source": []
  },
  {
   "cell_type": "code",
   "execution_count": null,
   "id": "1a50cf12",
   "metadata": {},
   "outputs": [],
   "source": []
  },
  {
   "cell_type": "code",
   "execution_count": 207,
   "id": "5189f9b2",
   "metadata": {},
   "outputs": [
    {
     "name": "stdout",
     "output_type": "stream",
     "text": [
      "The topics described by their top-weighted terms:\n",
      "+-----+-----------+---------------------------------------------------------------+\n",
      "|topic|termIndices|termWeights                                                    |\n",
      "+-----+-----------+---------------------------------------------------------------+\n",
      "|0    |[7, 2, 15] |[0.06727333317531045, 0.0615793310719479, 0.05931043314007861] |\n",
      "|1    |[3, 19, 6] |[0.06763450195906132, 0.06077733185902623, 0.0546225125000529] |\n",
      "|2    |[8, 6, 18] |[0.060804345997195745, 0.0580141250226337, 0.05444104987469735]|\n",
      "+-----+-----------+---------------------------------------------------------------+\n",
      "\n",
      "+-----+-----------------------------------+------------------------------------------+-----------------------------------------------+-------------------------------------------------------------------------------------------------------------------------------------------+------------------------------------------------------------+\n",
      "|label|sentence                           |words                                     |rawFeatures                                    |features                                                                                                                                   |featurizedData                                              |\n",
      "+-----+-----------------------------------+------------------------------------------+-----------------------------------------------+-------------------------------------------------------------------------------------------------------------------------------------------+------------------------------------------------------------+\n",
      "|0.0  |Hi I heard about Spark             |[hi, i, heard, about, spark]              |(20,[6,8,13,16],[1.0,1.0,1.0,2.0])             |(20,[6,8,13,16],[0.28768207245178085,0.6931471805599453,0.28768207245178085,0.5753641449035617])                                           |[0.1584223675309093,0.13346443202703576,0.708113200442055]  |\n",
      "|0.0  |I wish Java could use case classes |[i, wish, java, could, use, case, classes]|(20,[0,2,7,13,15,16],[1.0,1.0,2.0,1.0,1.0,1.0])|(20,[0,2,7,13,15,16],[0.6931471805599453,0.6931471805599453,1.3862943611198906,0.28768207245178085,0.6931471805599453,0.28768207245178085])|[0.8536114887792522,0.07230208473099888,0.07408642648974886]|\n",
      "|1.0  |Logistic regression models are neat|[logistic, regression, models, are, neat] |(20,[3,4,6,11,19],[1.0,1.0,1.0,1.0,1.0])       |(20,[3,4,6,11,19],[0.6931471805599453,0.6931471805599453,0.28768207245178085,0.6931471805599453,0.6931471805599453])                       |[0.09978734961373485,0.8076507014777266,0.09256194890853857]|\n",
      "+-----+-----------------------------------+------------------------------------------+-----------------------------------------------+-------------------------------------------------------------------------------------------------------------------------------------------+------------------------------------------------------------+\n",
      "\n"
     ]
    }
   ],
   "source": [
    "from pyspark.ml.linalg import Vectors, SparseVector\n",
    "from pyspark.ml.clustering import LDA\n",
    "\n",
    "lda = LDA(\n",
    "    featuresCol='features',\n",
    "    seed=123,\n",
    "    maxIter=20,\n",
    "    k=3,\n",
    "    topicDistributionCol='featurizedData',\n",
    ")\n",
    "\n",
    "model = lda.fit(rescaledData)\n",
    "# Describe topics.\n",
    "topics = model.describeTopics(3)\n",
    "print(\"The topics described by their top-weighted terms:\")\n",
    "topics.show(truncate=False)\n",
    "\n",
    "# Shows the result\n",
    "transformed = model.transform(rescaledData)\n",
    "transformed.show(truncate=False)"
   ]
  },
  {
   "cell_type": "code",
   "execution_count": 198,
   "id": "3f6df234",
   "metadata": {},
   "outputs": [
    {
     "name": "stdout",
     "output_type": "stream",
     "text": [
      "The lower bound on the log likelihood of the entire corpus: -198541.352159139\n",
      "The upper bound on perplexity: 18094.331467000426\n"
     ]
    }
   ],
   "source": [
    "ll = model.logLikelihood(rescaledData)\n",
    "lp = model.logPerplexity(rescaledData)\n",
    "print(\"The lower bound on the log likelihood of the entire corpus: \" + str(ll))\n",
    "print(\"The upper bound on perplexity: \" + str(lp))"
   ]
  },
  {
   "cell_type": "code",
   "execution_count": 221,
   "id": "bb8f756b",
   "metadata": {},
   "outputs": [],
   "source": [
    "trans=topics.pandas_api()"
   ]
  },
  {
   "cell_type": "code",
   "execution_count": 226,
   "id": "99efdb4f",
   "metadata": {},
   "outputs": [
    {
     "data": {
      "text/plain": [
       "[0.060804345997195745, 0.0580141250226337, 0.05444104987469735]"
      ]
     },
     "execution_count": 226,
     "metadata": {},
     "output_type": "execute_result"
    }
   ],
   "source": [
    "trans.termWeights[2]"
   ]
  },
  {
   "cell_type": "code",
   "execution_count": null,
   "id": "afa3cba3",
   "metadata": {},
   "outputs": [],
   "source": []
  }
 ],
 "metadata": {
  "kernelspec": {
   "display_name": "Python 3",
   "language": "python",
   "name": "python3"
  },
  "language_info": {
   "codemirror_mode": {
    "name": "ipython",
    "version": 3
   },
   "file_extension": ".py",
   "mimetype": "text/x-python",
   "name": "python",
   "nbconvert_exporter": "python",
   "pygments_lexer": "ipython3",
   "version": "3.8.8"
  }
 },
 "nbformat": 4,
 "nbformat_minor": 5
}
