{
 "cells": [
  {
   "cell_type": "markdown",
   "id": "906b477f",
   "metadata": {},
   "source": [
    "## Reading collections from Mondogdb and performing queries with pyspark."
   ]
  },
  {
   "cell_type": "code",
   "execution_count": 1,
   "id": "ea786e46",
   "metadata": {},
   "outputs": [],
   "source": [
    "import pyspark\n",
    "import findspark\n",
    "from pyspark import SparkContext\n",
    "from pyspark.sql import SparkSession\n",
    "from pyspark.sql import SQLContext\n",
    "\n",
    "import findspark\n",
    "findspark.init()"
   ]
  },
  {
   "cell_type": "code",
   "execution_count": 2,
   "id": "53adb29b",
   "metadata": {},
   "outputs": [
    {
     "name": "stdout",
     "output_type": "stream",
     "text": [
      "+-----+-----------+--------------------+-----+-----+\n",
      "|  _id|       city|                 loc|  pop|state|\n",
      "+-----+-----------+--------------------+-----+-----+\n",
      "|01001|     AGAWAM|[-72.622739, 42.0...|15338|   MA|\n",
      "|01002|    CUSHMAN|[-72.51565, 42.37...|36963|   MA|\n",
      "|01005|      BARRE|[-72.108354, 42.4...| 4546|   MA|\n",
      "|01007|BELCHERTOWN|[-72.410953, 42.2...|10579|   MA|\n",
      "|01008|  BLANDFORD|[-72.936114, 42.1...| 1240|   MA|\n",
      "+-----+-----------+--------------------+-----+-----+\n",
      "only showing top 5 rows\n",
      "\n"
     ]
    }
   ],
   "source": [
    "conf = pyspark.SparkConf().set('spark.jars.packages','org.mongodb.spark:mongo-spark-connector_2.12:3.0.1').setMaster('local').setAppName('my app').setAll([(\"spark.driver.memory\",\"40g\"), (\"spark.executor.memory\",\"50g\")])\n",
    "sc= SparkContext(conf=conf)\n",
    "spark = SparkSession.builder.config(conf=conf).getOrCreate()\n",
    "\n",
    "##load database and collection from mongo \n",
    "df = spark.read.format(\"mongo\").option(\"uri\",\"mongodb://127.0.0.1/oluwafemi_asg1.zip0\").load()\n",
    "df.show(5)\n",
    "df.printSchema()\n",
    "#spark.stop()\n",
    "\n"
   ]
  },
  {
   "cell_type": "code",
   "execution_count": 4,
   "id": "5f27027a",
   "metadata": {},
   "outputs": [
    {
     "data": {
      "text/html": [
       "\n",
       "            <div>\n",
       "                <p><b>SparkSession - in-memory</b></p>\n",
       "                \n",
       "        <div>\n",
       "            <p><b>SparkContext</b></p>\n",
       "\n",
       "            <p><a href=\"http://SOFA:4041\">Spark UI</a></p>\n",
       "\n",
       "            <dl>\n",
       "              <dt>Version</dt>\n",
       "                <dd><code>v3.3.0</code></dd>\n",
       "              <dt>Master</dt>\n",
       "                <dd><code>local</code></dd>\n",
       "              <dt>AppName</dt>\n",
       "                <dd><code>my app</code></dd>\n",
       "            </dl>\n",
       "        </div>\n",
       "        \n",
       "            </div>\n",
       "        "
      ],
      "text/plain": [
       "<pyspark.sql.session.SparkSession at 0x2606c379640>"
      ]
     },
     "execution_count": 4,
     "metadata": {},
     "output_type": "execute_result"
    }
   ],
   "source": [
    "spark"
   ]
  },
  {
   "cell_type": "code",
   "execution_count": 7,
   "id": "e67466ed",
   "metadata": {},
   "outputs": [
    {
     "name": "stdout",
     "output_type": "stream",
     "text": [
      "+-----+-----------+--------------------+-----+-----+\n",
      "|  _id|       city|                 loc|  pop|state|\n",
      "+-----+-----------+--------------------+-----+-----+\n",
      "|01001|     AGAWAM|[-72.622739, 42.0...|15338|   MA|\n",
      "|01005|      BARRE|[-72.108354, 42.4...| 4546|   MA|\n",
      "|01007|BELCHERTOWN|[-72.410953, 42.2...|10579|   MA|\n",
      "|01008|  BLANDFORD|[-72.936114, 42.1...| 1240|   MA|\n",
      "|01010|  BRIMFIELD|[-72.188455, 42.1...| 3706|   MA|\n",
      "+-----+-----------+--------------------+-----+-----+\n",
      "only showing top 5 rows\n",
      "\n"
     ]
    }
   ],
   "source": [
    "##perform query on the df\n",
    "df.filter(df[\"pop\"]<='23396').show(5)"
   ]
  },
  {
   "cell_type": "code",
   "execution_count": 8,
   "id": "1b962890",
   "metadata": {},
   "outputs": [
    {
     "name": "stdout",
     "output_type": "stream",
     "text": [
      "+-----+--------+--------------------+-----+-----+\n",
      "|  _id|    city|                 loc|  pop|state|\n",
      "+-----+--------+--------------------+-----+-----+\n",
      "|01013|CHICOPEE|[-72.607962, 42.1...|23396|   MA|\n",
      "+-----+--------+--------------------+-----+-----+\n",
      "\n"
     ]
    }
   ],
   "source": [
    "df.createOrReplaceTempView(\"temp\")\n",
    "some_fruit = spark.sql(\"SELECT *FROM temp WHERE pop= 23396\")\n",
    "some_fruit.show()"
   ]
  },
  {
   "cell_type": "markdown",
   "id": "85d63cc4",
   "metadata": {},
   "source": [
    "## Connect to tweet db and collection"
   ]
  },
  {
   "cell_type": "code",
   "execution_count": 10,
   "id": "5f182790",
   "metadata": {
    "scrolled": true
   },
   "outputs": [
    {
     "name": "stdout",
     "output_type": "stream",
     "text": [
      "+--------------------+--------------------+------+--------------------+\n",
      "|                 _id|                data|errors|            includes|\n",
      "+--------------------+--------------------+------+--------------------+\n",
      "|{62e97965167d0fcc...|{155909486, {null...|  null|{null, null, [{15...|\n",
      "|{62e97965167d0fcc...|{1235404915515613...|  null|{null, [{12245393...|\n",
      "|{62e97965167d0fcc...|{15127829, {null}...|  null|{null, [{89501706...|\n",
      "|{62e97966167d0fcc...|{235714500, {null...|  null|{null, [{15128293...|\n",
      "|{62e97966167d0fcc...|{2630269581, {nul...|  null|{null, null, [{26...|\n",
      "+--------------------+--------------------+------+--------------------+\n",
      "only showing top 5 rows\n",
      "\n",
      "root\n",
      " |-- _id: struct (nullable = true)\n",
      " |    |-- oid: string (nullable = true)\n",
      " |-- data: struct (nullable = true)\n",
      " |    |-- author_id: string (nullable = true)\n",
      " |    |-- geo: struct (nullable = true)\n",
      " |    |    |-- place_id: string (nullable = true)\n",
      " |    |-- id: string (nullable = true)\n",
      " |    |-- referenced_tweets: array (nullable = true)\n",
      " |    |    |-- element: struct (containsNull = true)\n",
      " |    |    |    |-- type: string (nullable = true)\n",
      " |    |    |    |-- id: string (nullable = true)\n",
      " |    |-- text: string (nullable = true)\n",
      " |-- errors: array (nullable = true)\n",
      " |    |-- element: struct (containsNull = true)\n",
      " |    |    |-- resource_id: string (nullable = true)\n",
      " |    |    |-- parameter: string (nullable = true)\n",
      " |    |    |-- resource_type: string (nullable = true)\n",
      " |    |    |-- section: string (nullable = true)\n",
      " |    |    |-- title: string (nullable = true)\n",
      " |    |    |-- value: string (nullable = true)\n",
      " |    |    |-- detail: string (nullable = true)\n",
      " |    |    |-- type: string (nullable = true)\n",
      " |-- includes: struct (nullable = true)\n",
      " |    |-- places: array (nullable = true)\n",
      " |    |    |-- element: struct (containsNull = true)\n",
      " |    |    |    |-- full_name: string (nullable = true)\n",
      " |    |    |    |-- id: string (nullable = true)\n",
      " |    |-- tweets: array (nullable = true)\n",
      " |    |    |-- element: struct (containsNull = true)\n",
      " |    |    |    |-- author_id: string (nullable = true)\n",
      " |    |    |    |-- geo: struct (nullable = true)\n",
      " |    |    |    |    |-- place_id: string (nullable = true)\n",
      " |    |    |    |-- id: string (nullable = true)\n",
      " |    |    |    |-- referenced_tweets: array (nullable = true)\n",
      " |    |    |    |    |-- element: struct (containsNull = true)\n",
      " |    |    |    |    |    |-- type: string (nullable = true)\n",
      " |    |    |    |    |    |-- id: string (nullable = true)\n",
      " |    |    |    |-- text: string (nullable = true)\n",
      " |    |    |    |-- withheld: struct (nullable = true)\n",
      " |    |    |    |    |-- copyright: boolean (nullable = true)\n",
      " |    |    |    |    |-- country_codes: array (nullable = true)\n",
      " |    |    |    |    |    |-- element: string (containsNull = true)\n",
      " |    |-- users: array (nullable = true)\n",
      " |    |    |-- element: struct (containsNull = true)\n",
      " |    |    |    |-- id: string (nullable = true)\n",
      " |    |    |    |-- name: string (nullable = true)\n",
      " |    |    |    |-- username: string (nullable = true)\n",
      " |    |    |    |-- withheld: struct (nullable = true)\n",
      " |    |    |    |    |-- country_codes: array (nullable = true)\n",
      " |    |    |    |    |    |-- element: string (containsNull = true)\n",
      "\n"
     ]
    }
   ],
   "source": [
    "df_tweet = spark.read.format(\"mongo\").option(\"uri\",\"mongodb://127.0.0.1/tweet_file.tweet_stream_\").load()\n",
    "df_tweet.show(5)\n",
    "df_tweet.printSchema()"
   ]
  },
  {
   "cell_type": "code",
   "execution_count": 63,
   "id": "306e4767",
   "metadata": {},
   "outputs": [
    {
     "name": "stdout",
     "output_type": "stream",
     "text": [
      "+-------------------+--------------------+--------+------------+--------------------+--------------------+---------+\n",
      "|          author_id|                text|place_id|        type|                  id|            username|full_name|\n",
      "+-------------------+--------------------+--------+------------+--------------------+--------------------+---------+\n",
      "|          155909486|https://t.co/HTjo...|    null|        null|         [155909486]|          [cdiviani]|     null|\n",
      "|1235404915515613184|RT @ImranKhanPTI:...|    null| [retweeted]|[1235404915515613...|[ARazzaq08530293,...|     null|\n",
      "|           15127829|RT @ShibleyTelham...|    null| [retweeted]|[15127829, 895017...|[garobhai, Shible...|     null|\n",
      "|          235714500|@MiguelM34149403 ...|    null|[replied_to]|[235714500, 15128...|[Mr_kaiser, Migue...|     null|\n",
      "|         2630269581|Alguém pra beber ...|    null|        null|        [2630269581]|     [vivisantoss21]|     null|\n",
      "+-------------------+--------------------+--------+------------+--------------------+--------------------+---------+\n",
      "only showing top 5 rows\n",
      "\n"
     ]
    }
   ],
   "source": [
    "##create subtable with selected df\n",
    "b=df_tweet.select('data.author_id', 'data.text',\"data.geo.place_id\",\"data.referenced_tweets.type\", 'includes.users.id','includes.users.username','includes.places.full_name')\n",
    "b.show(5)"
   ]
  },
  {
   "cell_type": "code",
   "execution_count": null,
   "id": "9bdcb50b",
   "metadata": {},
   "outputs": [],
   "source": []
  },
  {
   "cell_type": "code",
   "execution_count": 64,
   "id": "d2a478c0",
   "metadata": {
    "scrolled": true
   },
   "outputs": [
    {
     "name": "stdout",
     "output_type": "stream",
     "text": [
      "+-------------------+--------------------+----------------+----+--------------------+---------------+--------------------+\n",
      "|          author_id|                text|        place_id|type|                  id|       username|           full_name|\n",
      "+-------------------+--------------------+----------------+----+--------------------+---------------+--------------------+\n",
      "|1020108914233348096|1 thing about it ...|795003fb11ee9829|null|[1020108914233348...|    [laiyahyas]|     [New Haven, CT]|\n",
      "|1369631277771587589|Amanhã volta pra ...|c838cdfdfffe0825|null|[1369631277771587...|[gustavo_freyy]|  [Palmitos, Brasil]|\n",
      "|          616700246|Que garrón ser K,...|0079bbc151fa56d2|null|         [616700246]|     [dantenob]|[Rosario, Argentina]|\n",
      "+-------------------+--------------------+----------------+----+--------------------+---------------+--------------------+\n",
      "\n"
     ]
    }
   ],
   "source": [
    "###show where place_id is not NULL \n",
    "b.createOrReplaceTempView(\"temp\")\n",
    "some_text = spark.sql(\"SELECT * FROM temp WHERE place_id IS NOT NULL and type is NULL\")\n",
    "some_text.show(10)"
   ]
  },
  {
   "cell_type": "code",
   "execution_count": null,
   "id": "80c7189d",
   "metadata": {},
   "outputs": [],
   "source": []
  },
  {
   "cell_type": "code",
   "execution_count": 69,
   "id": "b92c6483",
   "metadata": {},
   "outputs": [
    {
     "name": "stdout",
     "output_type": "stream",
     "text": [
      "+--------------------+----------------+--------------------+\n",
      "|                text|        place_id|           full_name|\n",
      "+--------------------+----------------+--------------------+\n",
      "|📸📸🤎 https://t....|01bf5c1e56ac186d|[Riyadh, Kingdom ...|\n",
      "|1 thing about it ...|795003fb11ee9829|     [New Haven, CT]|\n",
      "|  @morganxhr which?!|011add077f4d2da3|      [Brooklyn, NY]|\n",
      "|Amanhã volta pra ...|c838cdfdfffe0825|  [Palmitos, Brasil]|\n",
      "|@lwtshomerry Yeah...|73d1c1c11b675932|    [Chesapeake, VA]|\n",
      "|@AzginDulEsra Var...|00d58bbe24ee6718|[Gaziantep, Türkiye]|\n",
      "|https://t.co/UOsl...|a29d2918916e6486|    [Saga-shi, Saga]|\n",
      "|Que garrón ser K,...|0079bbc151fa56d2|[Rosario, Argentina]|\n",
      "+--------------------+----------------+--------------------+\n",
      "\n"
     ]
    }
   ],
   "source": [
    "###show where place_id is not NULL \n",
    "b.createOrReplaceTempView(\"temp\")\n",
    "some_text = spark.sql(\"SELECT  text,place_id,full_name FROM temp WHERE full_name IS NOT NULL\")\n",
    "some_text.show(20)"
   ]
  },
  {
   "cell_type": "code",
   "execution_count": 70,
   "id": "f82a5035",
   "metadata": {},
   "outputs": [
    {
     "name": "stdout",
     "output_type": "stream",
     "text": [
      "+----------+--------------------+--------+----+------------+---------------+---------+\n",
      "| author_id|                text|place_id|type|          id|       username|full_name|\n",
      "+----------+--------------------+--------+----+------------+---------------+---------+\n",
      "|2630269581|Alguém pra beber ...|    null|null|[2630269581]|[vivisantoss21]|     null|\n",
      "+----------+--------------------+--------+----+------------+---------------+---------+\n",
      "\n"
     ]
    }
   ],
   "source": [
    "b.createOrReplaceTempView(\"temp\")\n",
    "some_text = spark.sql(\"SELECT *FROM temp WHERE author_id= 2630269581\")\n",
    "some_text.show()"
   ]
  },
  {
   "cell_type": "code",
   "execution_count": null,
   "id": "3fb10d3d",
   "metadata": {},
   "outputs": [],
   "source": []
  }
 ],
 "metadata": {
  "kernelspec": {
   "display_name": "Python 3",
   "language": "python",
   "name": "python3"
  },
  "language_info": {
   "codemirror_mode": {
    "name": "ipython",
    "version": 3
   },
   "file_extension": ".py",
   "mimetype": "text/x-python",
   "name": "python",
   "nbconvert_exporter": "python",
   "pygments_lexer": "ipython3",
   "version": "3.8.8"
  }
 },
 "nbformat": 4,
 "nbformat_minor": 5
}
